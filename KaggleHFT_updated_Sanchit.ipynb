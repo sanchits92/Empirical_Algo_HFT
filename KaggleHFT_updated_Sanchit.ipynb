{
  "cells": [
    {
      "cell_type": "code",
      "execution_count": 1,
      "metadata": {
        "colab": {
          "base_uri": "https://localhost:8080/"
        },
        "id": "LT3en4qObtPQ",
        "outputId": "d54b3d72-ff3b-4368-c842-a683fc1e1349"
      },
      "outputs": [
        {
          "name": "stderr",
          "output_type": "stream",
          "text": [
            "IProgress not found. Please update jupyter and ipywidgets. See https://ipywidgets.readthedocs.io/en/stable/user_install.html\n"
          ]
        }
      ],
      "source": [
        "import pandas as pd\n",
        "from pylab import rcParams\n",
        "import statsmodels.api as sm\n",
        "import matplotlib.pyplot as plt\n",
        "import numpy as np\n",
        "import pandas as pd\n",
        "from datetime import datetime\n",
        "from scipy.special import logsumexp\n",
        "from catboost import Pool, cv, CatBoostClassifier, CatBoostRegressor\n",
        "from sklearn.metrics import mean_squared_error, classification_report\n",
        "from sklearn.model_selection import train_test_split\n",
        "from sklearn.metrics import accuracy_score, precision_score, recall_score, f1_score\n",
        "import shap\n",
        "from xgboost import XGBClassifier\n",
        "from sklearn.metrics import precision_score, recall_score, f1_score, confusion_matrix\n",
        "import numpy as np\n",
        "from hyperopt import STATUS_OK, Trials, fmin, hp, tpe\n",
        "from sklearn.model_selection import cross_val_score\n",
        "from xgboost import XGBClassifier\n",
        "from sklearn.metrics import precision_score, recall_score, f1_score, confusion_matrix\n",
        "import numpy as np\n",
        "from sklearn.model_selection import RandomizedSearchCV\n",
        "import pandas as pd\n",
        "from sklearn.feature_selection import VarianceThreshold\n",
        "from sklearn import preprocessing\n",
        "from sklearn.preprocessing import LabelEncoder\n",
        "from sklearn.preprocessing import StandardScaler\n",
        "from sklearn.model_selection import train_test_split\n",
        "import xgboost as xgb\n",
        "from xgboost import XGBClassifier\n",
        "from sklearn.metrics import accuracy_score\n",
        "from sklearn.model_selection import KFold\n",
        "\n",
        "from sklearn.metrics import precision_score, recall_score, f1_score, confusion_matrix\n",
        "import numpy as np\n",
        "from sklearn import tree\n",
        "from sklearn.ensemble import RandomForestClassifier\n",
        "import matplotlib.pyplot as plt\n",
        "from sklearn.metrics import accuracy_score\n",
        "from hyperopt import STATUS_OK, Trials, fmin, hp, tpe\n",
        "from sklearn.model_selection import GridSearchCV\n",
        "from sklearn.linear_model import LogisticRegression\n",
        "from sklearn.metrics import accuracy_score, confusion_matrix, classification_report\n",
        "from imblearn.pipeline import Pipeline\n",
        "from imblearn.over_sampling import SMOTE,BorderlineSMOTE,ADASYN,SVMSMOTE\n",
        "from imblearn.under_sampling import RandomUnderSampler\n",
        "from numpy import mean\n",
        "from numpy import where\n",
        "from collections import Counter\n",
        "from sklearn.preprocessing import StandardScaler\n",
        "from sklearn.pipeline import Pipeline\n",
        "from sklearn.svm import SVC\n",
        "from sklearn.model_selection import cross_val_score"
      ]
    },
    {
      "attachments": {},
      "cell_type": "markdown",
      "metadata": {
        "id": "95uCaUbAWkVA"
      },
      "source": [
        "# Dataset Download"
      ]
    },
    {
      "cell_type": "code",
      "execution_count": 2,
      "metadata": {
        "id": "AJndRw5Sbn2c"
      },
      "outputs": [],
      "source": [
        "# Download and unzip Kaggle Data\n",
        "# Ensure kaggle credentials are created and kaggle.json file  is present in the working directory\n",
        "#!rm -r ~/.kaggle\n",
        "#!mkdir ~/.kaggle\n",
        "#!mv ./kaggle.json ~/.kaggle/\n",
        "#!chmod 600 ~/.kaggle/kaggle.json\n",
        "#!kaggle competitions download -c caltech-cs155-2020\n",
        "# unzip /content/caltech-cs155-2020.zip"
      ]
    },
    {
      "cell_type": "code",
      "execution_count": 3,
      "metadata": {
        "colab": {
          "base_uri": "https://localhost:8080/"
        },
        "id": "Z0y220FelPRI",
        "outputId": "d818919e-dc2f-465c-9675-978a7b66bb11"
      },
      "outputs": [
        {
          "name": "stdout",
          "output_type": "stream",
          "text": [
            "Index(['id', 'last_price', 'mid', 'opened_position_qty ',\n",
            "       'closed_position_qty', 'transacted_qty', 'd_open_interest', 'bid1',\n",
            "       'bid2', 'bid3', 'bid4', 'bid5', 'ask1', 'ask2', 'ask3', 'ask4', 'ask5',\n",
            "       'bid1vol', 'bid2vol', 'bid3vol', 'bid4vol', 'bid5vol', 'ask1vol',\n",
            "       'ask2vol', 'ask3vol', 'ask4vol', 'ask5vol', 'y'],\n",
            "      dtype='object')\n"
          ]
        }
      ],
      "source": [
        "# Get orderbook data\n",
        "train_ob = pd.read_csv('C:/dev/Kaggle/train.csv')\n",
        "print(train_ob.columns)"
      ]
    },
    {
      "cell_type": "code",
      "execution_count": 4,
      "metadata": {
        "colab": {
          "base_uri": "https://localhost:8080/",
          "height": 487
        },
        "id": "XAvkBEUGPDYn",
        "outputId": "565881d9-eab9-4e2b-883f-c406f87706a9"
      },
      "outputs": [
        {
          "data": {
            "text/html": [
              "<div>\n",
              "<style scoped>\n",
              "    .dataframe tbody tr th:only-of-type {\n",
              "        vertical-align: middle;\n",
              "    }\n",
              "\n",
              "    .dataframe tbody tr th {\n",
              "        vertical-align: top;\n",
              "    }\n",
              "\n",
              "    .dataframe thead th {\n",
              "        text-align: right;\n",
              "    }\n",
              "</style>\n",
              "<table border=\"1\" class=\"dataframe\">\n",
              "  <thead>\n",
              "    <tr style=\"text-align: right;\">\n",
              "      <th></th>\n",
              "      <th>id</th>\n",
              "      <th>last_price</th>\n",
              "      <th>mid</th>\n",
              "      <th>opened_position_qty</th>\n",
              "      <th>closed_position_qty</th>\n",
              "      <th>transacted_qty</th>\n",
              "      <th>d_open_interest</th>\n",
              "      <th>bid1</th>\n",
              "      <th>bid2</th>\n",
              "      <th>bid3</th>\n",
              "      <th>...</th>\n",
              "      <th>bid2vol</th>\n",
              "      <th>bid3vol</th>\n",
              "      <th>bid4vol</th>\n",
              "      <th>bid5vol</th>\n",
              "      <th>ask1vol</th>\n",
              "      <th>ask2vol</th>\n",
              "      <th>ask3vol</th>\n",
              "      <th>ask4vol</th>\n",
              "      <th>ask5vol</th>\n",
              "      <th>y</th>\n",
              "    </tr>\n",
              "  </thead>\n",
              "  <tbody>\n",
              "    <tr>\n",
              "      <th>0</th>\n",
              "      <td>0</td>\n",
              "      <td>3842.4</td>\n",
              "      <td>3842.6</td>\n",
              "      <td>NaN</td>\n",
              "      <td>NaN</td>\n",
              "      <td>103.0</td>\n",
              "      <td>0</td>\n",
              "      <td>3842.4</td>\n",
              "      <td>3842.0</td>\n",
              "      <td>3841.8</td>\n",
              "      <td>...</td>\n",
              "      <td>1</td>\n",
              "      <td>6</td>\n",
              "      <td>14</td>\n",
              "      <td>6</td>\n",
              "      <td>6</td>\n",
              "      <td>1</td>\n",
              "      <td>1</td>\n",
              "      <td>10</td>\n",
              "      <td>2</td>\n",
              "      <td>1</td>\n",
              "    </tr>\n",
              "    <tr>\n",
              "      <th>1</th>\n",
              "      <td>1</td>\n",
              "      <td>3842.8</td>\n",
              "      <td>3843.4</td>\n",
              "      <td>6.0</td>\n",
              "      <td>49.0</td>\n",
              "      <td>55.0</td>\n",
              "      <td>-43</td>\n",
              "      <td>3843.0</td>\n",
              "      <td>3842.8</td>\n",
              "      <td>3842.4</td>\n",
              "      <td>...</td>\n",
              "      <td>6</td>\n",
              "      <td>11</td>\n",
              "      <td>1</td>\n",
              "      <td>6</td>\n",
              "      <td>1</td>\n",
              "      <td>4</td>\n",
              "      <td>4</td>\n",
              "      <td>1</td>\n",
              "      <td>13</td>\n",
              "      <td>0</td>\n",
              "    </tr>\n",
              "    <tr>\n",
              "      <th>2</th>\n",
              "      <td>2</td>\n",
              "      <td>3844.0</td>\n",
              "      <td>3844.3</td>\n",
              "      <td>7.0</td>\n",
              "      <td>77.0</td>\n",
              "      <td>84.0</td>\n",
              "      <td>-69</td>\n",
              "      <td>3843.8</td>\n",
              "      <td>3843.6</td>\n",
              "      <td>3843.2</td>\n",
              "      <td>...</td>\n",
              "      <td>1</td>\n",
              "      <td>4</td>\n",
              "      <td>21</td>\n",
              "      <td>12</td>\n",
              "      <td>1</td>\n",
              "      <td>16</td>\n",
              "      <td>10</td>\n",
              "      <td>4</td>\n",
              "      <td>9</td>\n",
              "      <td>0</td>\n",
              "    </tr>\n",
              "    <tr>\n",
              "      <th>3</th>\n",
              "      <td>3</td>\n",
              "      <td>3843.8</td>\n",
              "      <td>3843.4</td>\n",
              "      <td>3.0</td>\n",
              "      <td>34.0</td>\n",
              "      <td>37.0</td>\n",
              "      <td>-30</td>\n",
              "      <td>3843.0</td>\n",
              "      <td>3842.8</td>\n",
              "      <td>3842.4</td>\n",
              "      <td>...</td>\n",
              "      <td>13</td>\n",
              "      <td>12</td>\n",
              "      <td>2</td>\n",
              "      <td>4</td>\n",
              "      <td>2</td>\n",
              "      <td>7</td>\n",
              "      <td>1</td>\n",
              "      <td>2</td>\n",
              "      <td>11</td>\n",
              "      <td>1</td>\n",
              "    </tr>\n",
              "    <tr>\n",
              "      <th>4</th>\n",
              "      <td>4</td>\n",
              "      <td>3843.2</td>\n",
              "      <td>3843.1</td>\n",
              "      <td>3.0</td>\n",
              "      <td>38.0</td>\n",
              "      <td>41.0</td>\n",
              "      <td>-35</td>\n",
              "      <td>3842.8</td>\n",
              "      <td>3842.4</td>\n",
              "      <td>3842.0</td>\n",
              "      <td>...</td>\n",
              "      <td>12</td>\n",
              "      <td>2</td>\n",
              "      <td>2</td>\n",
              "      <td>4</td>\n",
              "      <td>1</td>\n",
              "      <td>3</td>\n",
              "      <td>1</td>\n",
              "      <td>11</td>\n",
              "      <td>15</td>\n",
              "      <td>1</td>\n",
              "    </tr>\n",
              "    <tr>\n",
              "      <th>...</th>\n",
              "      <td>...</td>\n",
              "      <td>...</td>\n",
              "      <td>...</td>\n",
              "      <td>...</td>\n",
              "      <td>...</td>\n",
              "      <td>...</td>\n",
              "      <td>...</td>\n",
              "      <td>...</td>\n",
              "      <td>...</td>\n",
              "      <td>...</td>\n",
              "      <td>...</td>\n",
              "      <td>...</td>\n",
              "      <td>...</td>\n",
              "      <td>...</td>\n",
              "      <td>...</td>\n",
              "      <td>...</td>\n",
              "      <td>...</td>\n",
              "      <td>...</td>\n",
              "      <td>...</td>\n",
              "      <td>...</td>\n",
              "      <td>...</td>\n",
              "    </tr>\n",
              "    <tr>\n",
              "      <th>592375</th>\n",
              "      <td>592375</td>\n",
              "      <td>4110.2</td>\n",
              "      <td>4110.3</td>\n",
              "      <td>1.0</td>\n",
              "      <td>1.0</td>\n",
              "      <td>2.0</td>\n",
              "      <td>1</td>\n",
              "      <td>4110.2</td>\n",
              "      <td>4110.0</td>\n",
              "      <td>4109.4</td>\n",
              "      <td>...</td>\n",
              "      <td>2</td>\n",
              "      <td>1</td>\n",
              "      <td>3</td>\n",
              "      <td>2</td>\n",
              "      <td>2</td>\n",
              "      <td>3</td>\n",
              "      <td>10</td>\n",
              "      <td>7</td>\n",
              "      <td>7</td>\n",
              "      <td>1</td>\n",
              "    </tr>\n",
              "    <tr>\n",
              "      <th>592376</th>\n",
              "      <td>592376</td>\n",
              "      <td>4109.4</td>\n",
              "      <td>4110.5</td>\n",
              "      <td>6.0</td>\n",
              "      <td>5.0</td>\n",
              "      <td>11.0</td>\n",
              "      <td>1</td>\n",
              "      <td>4109.2</td>\n",
              "      <td>4109.0</td>\n",
              "      <td>4108.6</td>\n",
              "      <td>...</td>\n",
              "      <td>2</td>\n",
              "      <td>2</td>\n",
              "      <td>6</td>\n",
              "      <td>5</td>\n",
              "      <td>3</td>\n",
              "      <td>9</td>\n",
              "      <td>7</td>\n",
              "      <td>7</td>\n",
              "      <td>5</td>\n",
              "      <td>0</td>\n",
              "    </tr>\n",
              "    <tr>\n",
              "      <th>592377</th>\n",
              "      <td>592377</td>\n",
              "      <td>4109.4</td>\n",
              "      <td>4110.5</td>\n",
              "      <td>NaN</td>\n",
              "      <td>NaN</td>\n",
              "      <td>0.0</td>\n",
              "      <td>0</td>\n",
              "      <td>4109.2</td>\n",
              "      <td>4109.0</td>\n",
              "      <td>4108.6</td>\n",
              "      <td>...</td>\n",
              "      <td>2</td>\n",
              "      <td>2</td>\n",
              "      <td>6</td>\n",
              "      <td>5</td>\n",
              "      <td>3</td>\n",
              "      <td>9</td>\n",
              "      <td>7</td>\n",
              "      <td>7</td>\n",
              "      <td>5</td>\n",
              "      <td>0</td>\n",
              "    </tr>\n",
              "    <tr>\n",
              "      <th>592378</th>\n",
              "      <td>592378</td>\n",
              "      <td>4109.4</td>\n",
              "      <td>4110.5</td>\n",
              "      <td>NaN</td>\n",
              "      <td>NaN</td>\n",
              "      <td>0.0</td>\n",
              "      <td>0</td>\n",
              "      <td>4109.2</td>\n",
              "      <td>4109.0</td>\n",
              "      <td>4108.6</td>\n",
              "      <td>...</td>\n",
              "      <td>2</td>\n",
              "      <td>2</td>\n",
              "      <td>6</td>\n",
              "      <td>5</td>\n",
              "      <td>3</td>\n",
              "      <td>9</td>\n",
              "      <td>7</td>\n",
              "      <td>7</td>\n",
              "      <td>5</td>\n",
              "      <td>0</td>\n",
              "    </tr>\n",
              "    <tr>\n",
              "      <th>592379</th>\n",
              "      <td>592379</td>\n",
              "      <td>4109.4</td>\n",
              "      <td>4110.5</td>\n",
              "      <td>NaN</td>\n",
              "      <td>NaN</td>\n",
              "      <td>0.0</td>\n",
              "      <td>0</td>\n",
              "      <td>4109.2</td>\n",
              "      <td>4109.0</td>\n",
              "      <td>4108.6</td>\n",
              "      <td>...</td>\n",
              "      <td>2</td>\n",
              "      <td>2</td>\n",
              "      <td>6</td>\n",
              "      <td>5</td>\n",
              "      <td>3</td>\n",
              "      <td>9</td>\n",
              "      <td>7</td>\n",
              "      <td>7</td>\n",
              "      <td>5</td>\n",
              "      <td>0</td>\n",
              "    </tr>\n",
              "  </tbody>\n",
              "</table>\n",
              "<p>592380 rows × 28 columns</p>\n",
              "</div>"
            ],
            "text/plain": [
              "            id  last_price     mid  opened_position_qty   closed_position_qty  \\\n",
              "0            0      3842.4  3842.6                   NaN                  NaN   \n",
              "1            1      3842.8  3843.4                   6.0                 49.0   \n",
              "2            2      3844.0  3844.3                   7.0                 77.0   \n",
              "3            3      3843.8  3843.4                   3.0                 34.0   \n",
              "4            4      3843.2  3843.1                   3.0                 38.0   \n",
              "...        ...         ...     ...                   ...                  ...   \n",
              "592375  592375      4110.2  4110.3                   1.0                  1.0   \n",
              "592376  592376      4109.4  4110.5                   6.0                  5.0   \n",
              "592377  592377      4109.4  4110.5                   NaN                  NaN   \n",
              "592378  592378      4109.4  4110.5                   NaN                  NaN   \n",
              "592379  592379      4109.4  4110.5                   NaN                  NaN   \n",
              "\n",
              "        transacted_qty  d_open_interest    bid1    bid2    bid3  ...  bid2vol  \\\n",
              "0                103.0                0  3842.4  3842.0  3841.8  ...        1   \n",
              "1                 55.0              -43  3843.0  3842.8  3842.4  ...        6   \n",
              "2                 84.0              -69  3843.8  3843.6  3843.2  ...        1   \n",
              "3                 37.0              -30  3843.0  3842.8  3842.4  ...       13   \n",
              "4                 41.0              -35  3842.8  3842.4  3842.0  ...       12   \n",
              "...                ...              ...     ...     ...     ...  ...      ...   \n",
              "592375             2.0                1  4110.2  4110.0  4109.4  ...        2   \n",
              "592376            11.0                1  4109.2  4109.0  4108.6  ...        2   \n",
              "592377             0.0                0  4109.2  4109.0  4108.6  ...        2   \n",
              "592378             0.0                0  4109.2  4109.0  4108.6  ...        2   \n",
              "592379             0.0                0  4109.2  4109.0  4108.6  ...        2   \n",
              "\n",
              "        bid3vol  bid4vol  bid5vol  ask1vol  ask2vol  ask3vol  ask4vol  \\\n",
              "0             6       14        6        6        1        1       10   \n",
              "1            11        1        6        1        4        4        1   \n",
              "2             4       21       12        1       16       10        4   \n",
              "3            12        2        4        2        7        1        2   \n",
              "4             2        2        4        1        3        1       11   \n",
              "...         ...      ...      ...      ...      ...      ...      ...   \n",
              "592375        1        3        2        2        3       10        7   \n",
              "592376        2        6        5        3        9        7        7   \n",
              "592377        2        6        5        3        9        7        7   \n",
              "592378        2        6        5        3        9        7        7   \n",
              "592379        2        6        5        3        9        7        7   \n",
              "\n",
              "        ask5vol  y  \n",
              "0             2  1  \n",
              "1            13  0  \n",
              "2             9  0  \n",
              "3            11  1  \n",
              "4            15  1  \n",
              "...         ... ..  \n",
              "592375        7  1  \n",
              "592376        5  0  \n",
              "592377        5  0  \n",
              "592378        5  0  \n",
              "592379        5  0  \n",
              "\n",
              "[592380 rows x 28 columns]"
            ]
          },
          "execution_count": 4,
          "metadata": {},
          "output_type": "execute_result"
        }
      ],
      "source": [
        "train_ob"
      ]
    },
    {
      "cell_type": "code",
      "execution_count": 5,
      "metadata": {
        "colab": {
          "base_uri": "https://localhost:8080/",
          "height": 487
        },
        "id": "uWh7RIBRlZs0",
        "outputId": "f2fc5cb3-d06f-49f9-e03a-0163cbfd24c9"
      },
      "outputs": [
        {
          "data": {
            "text/html": [
              "<div>\n",
              "<style scoped>\n",
              "    .dataframe tbody tr th:only-of-type {\n",
              "        vertical-align: middle;\n",
              "    }\n",
              "\n",
              "    .dataframe tbody tr th {\n",
              "        vertical-align: top;\n",
              "    }\n",
              "\n",
              "    .dataframe thead th {\n",
              "        text-align: right;\n",
              "    }\n",
              "</style>\n",
              "<table border=\"1\" class=\"dataframe\">\n",
              "  <thead>\n",
              "    <tr style=\"text-align: right;\">\n",
              "      <th></th>\n",
              "      <th>id</th>\n",
              "      <th>last_price</th>\n",
              "      <th>mid</th>\n",
              "      <th>opened_position_qty</th>\n",
              "      <th>closed_position_qty</th>\n",
              "      <th>transacted_qty</th>\n",
              "      <th>d_open_interest</th>\n",
              "      <th>bid1</th>\n",
              "      <th>bid2</th>\n",
              "      <th>bid3</th>\n",
              "      <th>...</th>\n",
              "      <th>bid1vol</th>\n",
              "      <th>bid2vol</th>\n",
              "      <th>bid3vol</th>\n",
              "      <th>bid4vol</th>\n",
              "      <th>bid5vol</th>\n",
              "      <th>ask1vol</th>\n",
              "      <th>ask2vol</th>\n",
              "      <th>ask3vol</th>\n",
              "      <th>ask4vol</th>\n",
              "      <th>ask5vol</th>\n",
              "    </tr>\n",
              "  </thead>\n",
              "  <tbody>\n",
              "    <tr>\n",
              "      <th>0</th>\n",
              "      <td>592380</td>\n",
              "      <td>5178.4</td>\n",
              "      <td>5178.3</td>\n",
              "      <td>1.0</td>\n",
              "      <td>11.0</td>\n",
              "      <td>12.0</td>\n",
              "      <td>-10</td>\n",
              "      <td>5178.2</td>\n",
              "      <td>5178.0</td>\n",
              "      <td>5177.8</td>\n",
              "      <td>...</td>\n",
              "      <td>3</td>\n",
              "      <td>16</td>\n",
              "      <td>3</td>\n",
              "      <td>1</td>\n",
              "      <td>1</td>\n",
              "      <td>1</td>\n",
              "      <td>4</td>\n",
              "      <td>1</td>\n",
              "      <td>5</td>\n",
              "      <td>2</td>\n",
              "    </tr>\n",
              "    <tr>\n",
              "      <th>1</th>\n",
              "      <td>592381</td>\n",
              "      <td>5133.0</td>\n",
              "      <td>5132.9</td>\n",
              "      <td>1.0</td>\n",
              "      <td>0.0</td>\n",
              "      <td>1.0</td>\n",
              "      <td>1</td>\n",
              "      <td>5132.8</td>\n",
              "      <td>5132.6</td>\n",
              "      <td>5132.4</td>\n",
              "      <td>...</td>\n",
              "      <td>1</td>\n",
              "      <td>2</td>\n",
              "      <td>2</td>\n",
              "      <td>1</td>\n",
              "      <td>10</td>\n",
              "      <td>4</td>\n",
              "      <td>8</td>\n",
              "      <td>1</td>\n",
              "      <td>1</td>\n",
              "      <td>1</td>\n",
              "    </tr>\n",
              "    <tr>\n",
              "      <th>2</th>\n",
              "      <td>592382</td>\n",
              "      <td>5177.4</td>\n",
              "      <td>5178.0</td>\n",
              "      <td>2.0</td>\n",
              "      <td>0.0</td>\n",
              "      <td>2.0</td>\n",
              "      <td>2</td>\n",
              "      <td>5177.2</td>\n",
              "      <td>5176.8</td>\n",
              "      <td>5176.6</td>\n",
              "      <td>...</td>\n",
              "      <td>8</td>\n",
              "      <td>18</td>\n",
              "      <td>1</td>\n",
              "      <td>1</td>\n",
              "      <td>6</td>\n",
              "      <td>7</td>\n",
              "      <td>4</td>\n",
              "      <td>1</td>\n",
              "      <td>2</td>\n",
              "      <td>5</td>\n",
              "    </tr>\n",
              "    <tr>\n",
              "      <th>3</th>\n",
              "      <td>592383</td>\n",
              "      <td>5093.6</td>\n",
              "      <td>5093.9</td>\n",
              "      <td>0.0</td>\n",
              "      <td>2.0</td>\n",
              "      <td>2.0</td>\n",
              "      <td>-1</td>\n",
              "      <td>5093.2</td>\n",
              "      <td>5093.0</td>\n",
              "      <td>5092.8</td>\n",
              "      <td>...</td>\n",
              "      <td>8</td>\n",
              "      <td>5</td>\n",
              "      <td>4</td>\n",
              "      <td>3</td>\n",
              "      <td>1</td>\n",
              "      <td>1</td>\n",
              "      <td>1</td>\n",
              "      <td>11</td>\n",
              "      <td>6</td>\n",
              "      <td>2</td>\n",
              "    </tr>\n",
              "    <tr>\n",
              "      <th>4</th>\n",
              "      <td>592384</td>\n",
              "      <td>5189.2</td>\n",
              "      <td>5189.2</td>\n",
              "      <td>NaN</td>\n",
              "      <td>NaN</td>\n",
              "      <td>0.0</td>\n",
              "      <td>0</td>\n",
              "      <td>5188.8</td>\n",
              "      <td>5188.6</td>\n",
              "      <td>5188.4</td>\n",
              "      <td>...</td>\n",
              "      <td>1</td>\n",
              "      <td>5</td>\n",
              "      <td>1</td>\n",
              "      <td>3</td>\n",
              "      <td>3</td>\n",
              "      <td>3</td>\n",
              "      <td>2</td>\n",
              "      <td>1</td>\n",
              "      <td>3</td>\n",
              "      <td>4</td>\n",
              "    </tr>\n",
              "    <tr>\n",
              "      <th>...</th>\n",
              "      <td>...</td>\n",
              "      <td>...</td>\n",
              "      <td>...</td>\n",
              "      <td>...</td>\n",
              "      <td>...</td>\n",
              "      <td>...</td>\n",
              "      <td>...</td>\n",
              "      <td>...</td>\n",
              "      <td>...</td>\n",
              "      <td>...</td>\n",
              "      <td>...</td>\n",
              "      <td>...</td>\n",
              "      <td>...</td>\n",
              "      <td>...</td>\n",
              "      <td>...</td>\n",
              "      <td>...</td>\n",
              "      <td>...</td>\n",
              "      <td>...</td>\n",
              "      <td>...</td>\n",
              "      <td>...</td>\n",
              "      <td>...</td>\n",
              "    </tr>\n",
              "    <tr>\n",
              "      <th>191854</th>\n",
              "      <td>784234</td>\n",
              "      <td>5150.6</td>\n",
              "      <td>5150.8</td>\n",
              "      <td>NaN</td>\n",
              "      <td>NaN</td>\n",
              "      <td>0.0</td>\n",
              "      <td>0</td>\n",
              "      <td>5150.6</td>\n",
              "      <td>5150.4</td>\n",
              "      <td>5150.2</td>\n",
              "      <td>...</td>\n",
              "      <td>1</td>\n",
              "      <td>5</td>\n",
              "      <td>3</td>\n",
              "      <td>4</td>\n",
              "      <td>2</td>\n",
              "      <td>1</td>\n",
              "      <td>3</td>\n",
              "      <td>1</td>\n",
              "      <td>3</td>\n",
              "      <td>2</td>\n",
              "    </tr>\n",
              "    <tr>\n",
              "      <th>191855</th>\n",
              "      <td>784235</td>\n",
              "      <td>5122.6</td>\n",
              "      <td>5122.7</td>\n",
              "      <td>1.0</td>\n",
              "      <td>2.0</td>\n",
              "      <td>3.0</td>\n",
              "      <td>-1</td>\n",
              "      <td>5122.6</td>\n",
              "      <td>5122.4</td>\n",
              "      <td>5122.2</td>\n",
              "      <td>...</td>\n",
              "      <td>3</td>\n",
              "      <td>1</td>\n",
              "      <td>5</td>\n",
              "      <td>1</td>\n",
              "      <td>20</td>\n",
              "      <td>16</td>\n",
              "      <td>17</td>\n",
              "      <td>4</td>\n",
              "      <td>1</td>\n",
              "      <td>16</td>\n",
              "    </tr>\n",
              "    <tr>\n",
              "      <th>191856</th>\n",
              "      <td>784236</td>\n",
              "      <td>5192.8</td>\n",
              "      <td>5192.3</td>\n",
              "      <td>NaN</td>\n",
              "      <td>NaN</td>\n",
              "      <td>0.0</td>\n",
              "      <td>0</td>\n",
              "      <td>5192.0</td>\n",
              "      <td>5191.8</td>\n",
              "      <td>5191.2</td>\n",
              "      <td>...</td>\n",
              "      <td>1</td>\n",
              "      <td>2</td>\n",
              "      <td>1</td>\n",
              "      <td>1</td>\n",
              "      <td>1</td>\n",
              "      <td>1</td>\n",
              "      <td>2</td>\n",
              "      <td>1</td>\n",
              "      <td>2</td>\n",
              "      <td>1</td>\n",
              "    </tr>\n",
              "    <tr>\n",
              "      <th>191857</th>\n",
              "      <td>784237</td>\n",
              "      <td>5152.0</td>\n",
              "      <td>5151.9</td>\n",
              "      <td>4.0</td>\n",
              "      <td>2.0</td>\n",
              "      <td>6.0</td>\n",
              "      <td>2</td>\n",
              "      <td>5151.8</td>\n",
              "      <td>5151.6</td>\n",
              "      <td>5151.4</td>\n",
              "      <td>...</td>\n",
              "      <td>4</td>\n",
              "      <td>5</td>\n",
              "      <td>6</td>\n",
              "      <td>8</td>\n",
              "      <td>37</td>\n",
              "      <td>7</td>\n",
              "      <td>1</td>\n",
              "      <td>2</td>\n",
              "      <td>1</td>\n",
              "      <td>1</td>\n",
              "    </tr>\n",
              "    <tr>\n",
              "      <th>191858</th>\n",
              "      <td>784238</td>\n",
              "      <td>5200.0</td>\n",
              "      <td>5200.3</td>\n",
              "      <td>2.0</td>\n",
              "      <td>0.0</td>\n",
              "      <td>2.0</td>\n",
              "      <td>2</td>\n",
              "      <td>5200.0</td>\n",
              "      <td>5199.0</td>\n",
              "      <td>5198.8</td>\n",
              "      <td>...</td>\n",
              "      <td>4</td>\n",
              "      <td>5</td>\n",
              "      <td>1</td>\n",
              "      <td>2</td>\n",
              "      <td>1</td>\n",
              "      <td>1</td>\n",
              "      <td>1</td>\n",
              "      <td>4</td>\n",
              "      <td>1</td>\n",
              "      <td>3</td>\n",
              "    </tr>\n",
              "  </tbody>\n",
              "</table>\n",
              "<p>191859 rows × 27 columns</p>\n",
              "</div>"
            ],
            "text/plain": [
              "            id  last_price     mid  opened_position_qty   closed_position_qty  \\\n",
              "0       592380      5178.4  5178.3                   1.0                 11.0   \n",
              "1       592381      5133.0  5132.9                   1.0                  0.0   \n",
              "2       592382      5177.4  5178.0                   2.0                  0.0   \n",
              "3       592383      5093.6  5093.9                   0.0                  2.0   \n",
              "4       592384      5189.2  5189.2                   NaN                  NaN   \n",
              "...        ...         ...     ...                   ...                  ...   \n",
              "191854  784234      5150.6  5150.8                   NaN                  NaN   \n",
              "191855  784235      5122.6  5122.7                   1.0                  2.0   \n",
              "191856  784236      5192.8  5192.3                   NaN                  NaN   \n",
              "191857  784237      5152.0  5151.9                   4.0                  2.0   \n",
              "191858  784238      5200.0  5200.3                   2.0                  0.0   \n",
              "\n",
              "        transacted_qty  d_open_interest    bid1    bid2    bid3  ...  bid1vol  \\\n",
              "0                 12.0              -10  5178.2  5178.0  5177.8  ...        3   \n",
              "1                  1.0                1  5132.8  5132.6  5132.4  ...        1   \n",
              "2                  2.0                2  5177.2  5176.8  5176.6  ...        8   \n",
              "3                  2.0               -1  5093.2  5093.0  5092.8  ...        8   \n",
              "4                  0.0                0  5188.8  5188.6  5188.4  ...        1   \n",
              "...                ...              ...     ...     ...     ...  ...      ...   \n",
              "191854             0.0                0  5150.6  5150.4  5150.2  ...        1   \n",
              "191855             3.0               -1  5122.6  5122.4  5122.2  ...        3   \n",
              "191856             0.0                0  5192.0  5191.8  5191.2  ...        1   \n",
              "191857             6.0                2  5151.8  5151.6  5151.4  ...        4   \n",
              "191858             2.0                2  5200.0  5199.0  5198.8  ...        4   \n",
              "\n",
              "        bid2vol  bid3vol  bid4vol  bid5vol  ask1vol  ask2vol  ask3vol  \\\n",
              "0            16        3        1        1        1        4        1   \n",
              "1             2        2        1       10        4        8        1   \n",
              "2            18        1        1        6        7        4        1   \n",
              "3             5        4        3        1        1        1       11   \n",
              "4             5        1        3        3        3        2        1   \n",
              "...         ...      ...      ...      ...      ...      ...      ...   \n",
              "191854        5        3        4        2        1        3        1   \n",
              "191855        1        5        1       20       16       17        4   \n",
              "191856        2        1        1        1        1        2        1   \n",
              "191857        5        6        8       37        7        1        2   \n",
              "191858        5        1        2        1        1        1        4   \n",
              "\n",
              "        ask4vol  ask5vol  \n",
              "0             5        2  \n",
              "1             1        1  \n",
              "2             2        5  \n",
              "3             6        2  \n",
              "4             3        4  \n",
              "...         ...      ...  \n",
              "191854        3        2  \n",
              "191855        1       16  \n",
              "191856        2        1  \n",
              "191857        1        1  \n",
              "191858        1        3  \n",
              "\n",
              "[191859 rows x 27 columns]"
            ]
          },
          "execution_count": 5,
          "metadata": {},
          "output_type": "execute_result"
        }
      ],
      "source": [
        "test_ob = pd.read_csv('C:/dev/Kaggle/test.csv')\n",
        "test_ob"
      ]
    },
    {
      "cell_type": "code",
      "execution_count": 6,
      "metadata": {
        "colab": {
          "base_uri": "https://localhost:8080/"
        },
        "id": "8rsZbibomk85",
        "outputId": "8b3ed586-2f4e-4129-8613-6f34ba53b8db"
      },
      "outputs": [
        {
          "name": "stdout",
          "output_type": "stream",
          "text": [
            "(784239, 28)\n",
            "Index(['id', 'last_price', 'mid', 'opened_position_qty ',\n",
            "       'closed_position_qty', 'transacted_qty', 'd_open_interest', 'bid1',\n",
            "       'bid2', 'bid3', 'bid4', 'bid5', 'ask1', 'ask2', 'ask3', 'ask4', 'ask5',\n",
            "       'bid1vol', 'bid2vol', 'bid3vol', 'bid4vol', 'bid5vol', 'ask1vol',\n",
            "       'ask2vol', 'ask3vol', 'ask4vol', 'ask5vol', 'y'],\n",
            "      dtype='object')\n"
          ]
        }
      ],
      "source": [
        "# Concat train and test to create additional features\n",
        "df = pd.concat([train_ob,test_ob],sort=False)\n",
        "print(df.shape)\n",
        "print(df.columns)\n",
        "df.tail()\n",
        "\n",
        "df = df.dropna()"
      ]
    },
    {
      "attachments": {},
      "cell_type": "markdown",
      "metadata": {
        "id": "zqh_1JD6WsxC"
      },
      "source": [
        "# Calculation of Depth and Rise Ratio"
      ]
    },
    {
      "cell_type": "code",
      "execution_count": 7,
      "metadata": {
        "colab": {
          "base_uri": "https://localhost:8080/"
        },
        "id": "DeVJARuskBks",
        "outputId": "06888d81-ca3a-4a19-922e-e3c0a1282100"
      },
      "outputs": [
        {
          "name": "stdout",
          "output_type": "stream",
          "text": [
            "        ask_depth_ratio  bid_depth_ratio  mid_rise_ratio  \\\n",
            "1              0.741935         1.347826        0.000000   \n",
            "2              0.975610         1.025000        0.000234   \n",
            "3              0.560976         1.782609       -0.000234   \n",
            "4              0.911765         1.096774       -0.000078   \n",
            "5              1.518519         0.658537        0.000286   \n",
            "...                 ...              ...             ...   \n",
            "592372         3.400000         0.294118        0.000049   \n",
            "592373         2.666667         0.375000       -0.000243   \n",
            "592374         1.642857         0.608696       -0.000073   \n",
            "592375         2.900000         0.344828        0.000122   \n",
            "592376         1.722222         0.580645        0.000049   \n",
            "\n",
            "        last_price_rise_ratio  \n",
            "1                    0.000000  \n",
            "2                    0.000312  \n",
            "3                   -0.000052  \n",
            "4                   -0.000156  \n",
            "5                    0.000104  \n",
            "...                       ...  \n",
            "592372               0.000341  \n",
            "592373               0.000000  \n",
            "592374              -0.000584  \n",
            "592375               0.000195  \n",
            "592376              -0.000195  \n",
            "\n",
            "[419920 rows x 4 columns]\n"
          ]
        }
      ],
      "source": [
        "# Calculate the total bid quantity and total ask quantity\n",
        "df['total_bid_qty'] = df[['bid1vol', 'bid2vol', 'bid3vol', 'bid4vol', 'bid5vol']].sum(axis=1)\n",
        "df['total_ask_qty'] = df[['ask1vol', 'ask2vol', 'ask3vol', 'ask4vol', 'ask5vol']].sum(axis=1)\n",
        "\n",
        "# Calculate the bid depth ratio and ask depth ratio\n",
        "df['bid_depth_ratio'] = df['total_bid_qty'] / df['total_ask_qty']\n",
        "df['ask_depth_ratio'] = df['total_ask_qty'] / df['total_bid_qty']\n",
        "\n",
        "\n",
        "\n",
        "df['mid'+'_rise_ratio'] = df['mid'].pct_change()\n",
        "\n",
        "df['last_price'+'_rise_ratio'] = df['last_price'].pct_change()\n",
        "\n",
        "\n",
        "df['mid_rise_ratio'] = df['mid_rise_ratio'].fillna(0)\n",
        "\n",
        "df['last_price_rise_ratio'] = df['last_price_rise_ratio'].fillna(0)\n",
        "\n",
        "\n",
        "\n",
        "print(df[['ask_depth_ratio','bid_depth_ratio','mid_rise_ratio','last_price_rise_ratio']])"
      ]
    },
    {
      "attachments": {},
      "cell_type": "markdown",
      "metadata": {
        "id": "rNmKSOSgW89i"
      },
      "source": [
        "# Additional Feature Engineering"
      ]
    },
    {
      "cell_type": "code",
      "execution_count": 8,
      "metadata": {
        "colab": {
          "base_uri": "https://localhost:8080/"
        },
        "id": "qJs7-hYKmTSW",
        "outputId": "f290c6da-3677-4778-e928-23b81270fb1c"
      },
      "outputs": [
        {
          "name": "stdout",
          "output_type": "stream",
          "text": [
            "bid_cols\n",
            "bid_vol_cols\n",
            "ask_cols\n",
            "ask_vol_cols\n"
          ]
        }
      ],
      "source": [
        "# Adding new features to data\n",
        "\n",
        "# Create a dictionary mentioning bid and ask columns for creating additional features\n",
        "bid_cols = ['bid1','bid2', 'bid3', 'bid4', 'bid5']\n",
        "bid_vol_cols = ['bid1vol', 'bid2vol', 'bid3vol', 'bid4vol', 'bid5vol']\n",
        "ask_cols = ['ask1', 'ask2', 'ask3', 'ask4', 'ask5',]\n",
        "ask_vol_cols = ['ask1vol','ask2vol', 'ask3vol', 'ask4vol', 'ask5vol']\n",
        "\n",
        "group_cols = {\"bid_cols\":bid_cols,\"bid_vol_cols\":bid_vol_cols,\"ask_cols\":ask_cols,\"ask_vol_cols\":ask_vol_cols}\n",
        "\n",
        "for group in group_cols.keys():\n",
        "    print(group)\n",
        "    df[f\"{group}_max\"] = df[group_cols[group]].max(axis=1)\n",
        "    df[f\"{group}_avg\"] = df[group_cols[group]].mean(axis=1)\n",
        "    df[f\"{group}_min\"] = df[group_cols[group]].min(axis=1)\n",
        "    df[f\"{group}_spread\"] = df[f\"{group}_max\"].div(df[f\"{group}_min\"])\n",
        "    df[f\"{group}_logsumexp\"] = df[group_cols[group]].apply(logsumexp)\n",
        "\n",
        "\n",
        "df[\"last_price_div__mid\"] = df[\"last_price\"].div(df[\"mid\"])\n",
        "\n",
        "# Synthetically adding a \"date\" column to the DataFrame and assigning timestamps to each row based on the \"id\" column.\n",
        "\n",
        "df[\"date\"] = pd.to_datetime(\"1.1.2019\")\n",
        "df[\"date\"] = df[\"date\"] + pd.to_timedelta(df[\"id\"]/2,unit=\"s\") # 500 ms per row"
      ]
    },
    {
      "attachments": {},
      "cell_type": "markdown",
      "metadata": {
        "id": "jA90T1HyXEq-"
      },
      "source": [
        "# Indentifying features with constant values\n"
      ]
    },
    {
      "cell_type": "code",
      "execution_count": 9,
      "metadata": {
        "colab": {
          "base_uri": "https://localhost:8080/"
        },
        "id": "98gY5dFxuH-K",
        "outputId": "a3202ad3-25dc-4a94-ba26-a6b3faaf89dd"
      },
      "outputs": [
        {
          "name": "stdout",
          "output_type": "stream",
          "text": [
            "train shape 419920\n",
            "test shape 0\n"
          ]
        }
      ],
      "source": [
        "train = df.loc[~df.y.isna()]\n",
        "print(f\"train shape {train.shape[0]}\")\n",
        "test = df.loc[df.y.isna()]\n",
        "print(f\"test shape {test.shape[0]}\")\n",
        "\n",
        "\n",
        "# train = train.drop([\"id\",\"date\",\"y\"],axis=1)\n",
        "# y = train[\"y\"]\n",
        "\n",
        "# sel = VarianceThreshold(threshold=0)\n",
        "# sel.fit(train)\n",
        "\n",
        "# print(\n",
        "#     len([\n",
        "#         x for x in train.columns\n",
        "#         if x not in train.columns[sel.get_support()]\n",
        "#     ]))\n",
        "\n",
        "# [x for x in train.columns if x not in train.columns[sel.get_support()]]\n",
        "\n",
        "\n",
        "X= train.drop(columns=['bid_cols_logsumexp',\n",
        " 'bid_vol_cols_logsumexp',\n",
        " 'ask_cols_logsumexp',\n",
        " 'ask_vol_cols_logsumexp','date','id'])\n",
        "\n",
        "X = X.drop(columns = ['bid1','bid2','bid3','bid4','bid5','ask5','ask1','ask2','ask3','ask4','bid_cols_max','bid_cols_min','ask_cols_max','ask_cols_min'])\n",
        "\n",
        "y = X['y']\n",
        "\n",
        "X = X.drop(columns = ['y'])"
      ]
    },
    {
      "attachments": {},
      "cell_type": "markdown",
      "metadata": {
        "id": "bFz0BSnxXHiV"
      },
      "source": [
        "# Imputing nan values with Regression based imputation\n"
      ]
    },
    {
      "cell_type": "code",
      "execution_count": 10,
      "metadata": {
        "id": "En5idC9Wnku8"
      },
      "outputs": [],
      "source": [
        "\n",
        "from sklearn.experimental import enable_iterative_imputer\n",
        "from sklearn.impute import IterativeImputer\n",
        "\n",
        "# Create an instance of IterativeImputer\n",
        "imputer = IterativeImputer()\n",
        "\n",
        "# Fit the imputer on your data (assuming X is your feature matrix)\n",
        "imputer.fit(X)\n",
        "\n",
        "# Impute the missing values\n",
        "X = imputer.transform(X)\n",
        "\n",
        "np.save('x_inputed',X)\n",
        "\n",
        "X = np.load('x_inputed.npy')\n"
      ]
    },
    {
      "attachments": {},
      "cell_type": "markdown",
      "metadata": {
        "id": "_ILt7JFCXMcJ"
      },
      "source": [
        "# Calculate correlation between features\n"
      ]
    },
    {
      "cell_type": "code",
      "execution_count": 12,
      "metadata": {
        "colab": {
          "base_uri": "https://localhost:8080/"
        },
        "id": "VdLd6PSxpcsb",
        "outputId": "1fead4d8-cc23-45fb-d9bd-3ba7c0bdbd8d"
      },
      "outputs": [
        {
          "name": "stdout",
          "output_type": "stream",
          "text": [
            "Most correlated features:\n",
            "16 - 25: 1.0000000000000056\n",
            "31 - 17: 0.999999999999994\n",
            "1 - 22: 0.9999984414964272\n",
            "28 - 1: 0.9999984064689587\n",
            "0 - 1: 0.9999967693400813\n",
            "0 - 22: 0.9999954687220133\n",
            "28 - 22: 0.9999954664231291\n",
            "0 - 28: 0.9999954095520651\n",
            "17 - 30: 0.9051302355455765\n",
            "31 - 30: 0.9051302355455514\n",
            "24 - 16: 0.8892082682275863\n",
            "24 - 25: 0.8892082682275371\n",
            "4 - 3: 0.8443287662859416\n",
            "2 - 4: 0.7856203123871757\n",
            "30 - 33: 0.7753564711793803\n",
            "27 - 24: 0.755077193752881\n",
            "17 - 19: 0.6980931492683544\n",
            "19 - 31: 0.698093149268343\n",
            "25 - 18: 0.6668969761358944\n",
            "16 - 18: 0.6668969761358898\n",
            "3 - 5: 0.645967382030227\n",
            "30 - 19: 0.6424558624312792\n",
            "19 - 18: 0.607857585919617\n",
            "18 - 24: 0.6034615046966455\n",
            "17 - 14: 0.5847664035954031\n",
            "31 - 14: 0.5847664035953967\n",
            "16 - 10: 0.5844098032149452\n",
            "25 - 10: 0.5844098032149078\n",
            "25 - 9: 0.5827316668761989\n",
            "9 - 16: 0.5827316668761895\n"
          ]
        }
      ],
      "source": [
        "# Convert X to a pandas DataFrame\n",
        "X_df = pd.DataFrame(X)\n",
        "\n",
        "# Compute the correlation matrix\n",
        "correlation_matrix = X_df.corr()\n",
        "\n",
        "# Get the absolute correlation values and sort them in descending order\n",
        "correlation_values = correlation_matrix.abs().unstack().sort_values(ascending=False)\n",
        "\n",
        "# Filter out the correlation values for the same feature pairs and remove duplicates\n",
        "correlation_values = correlation_values[correlation_values != 1].drop_duplicates()\n",
        "\n",
        "# Print the most correlated feature pairs\n",
        "most_correlated_features = []\n",
        "for (feature1, feature2), correlation in correlation_values.items():\n",
        "    most_correlated_features.append((feature1, feature2, correlation))\n",
        "    if len(most_correlated_features) >= 30:  # Adjust the number of features as needed\n",
        "        break\n",
        "\n",
        "print(\"Most correlated features:\")\n",
        "for feature1, feature2, correlation in most_correlated_features:\n",
        "    print(f\"{feature1} - {feature2}: {correlation}\")\n"
      ]
    },
    {
      "attachments": {},
      "cell_type": "markdown",
      "metadata": {
        "id": "24AY9vckXTKU"
      },
      "source": [
        "# Calculate Corretion Between Features and Target Variable"
      ]
    },
    {
      "cell_type": "code",
      "execution_count": 14,
      "metadata": {
        "colab": {
          "base_uri": "https://localhost:8080/"
        },
        "id": "XbwU-4bKtLdY",
        "outputId": "bb91c0f0-41f1-4bed-d71e-e43cebe29d74"
      },
      "outputs": [
        {
          "name": "stdout",
          "output_type": "stream",
          "text": [
            "27: 0.0011717961011143544\n",
            "10: 0.005065476665325711\n",
            "9: 0.008009117564952376\n",
            "21: 0.009474638210609954\n",
            "14: 0.009494436344770943\n",
            "8: 0.009835984663384563\n",
            "13: 0.010302745083880748\n",
            "15: 0.011839498099286954\n",
            "33: 0.015345956410767954\n",
            "1: 0.016010114842109135\n",
            "22: 0.016059552631637344\n",
            "28: 0.016174141364298025\n",
            "0: 0.016385403518945955\n",
            "5: 0.01705103878739411\n",
            "12: 0.027195904803227085\n",
            "7: 0.028544287868293584\n",
            "24: 0.03044606563622956\n",
            "30: 0.030857379513882014\n",
            "2: 0.032598645580894224\n",
            "16: 0.04423445227728988\n",
            "25: 0.04423445227729187\n",
            "3: 0.046322566243807956\n",
            "4: 0.04889745366911359\n",
            "26: 0.05056498166469449\n",
            "23: 0.05067980318472081\n",
            "17: 0.058851594742915306\n",
            "31: 0.05885159474291698\n",
            "19: 0.07534864861664961\n",
            "29: 0.07798177243340722\n",
            "6: 0.08078188166518727\n",
            "32: 0.0849486909578949\n",
            "18: 0.08640659848700738\n",
            "20: 0.10435432877846976\n",
            "11: 0.12126559242798864\n",
            "34: 0.1479048383132955\n"
          ]
        }
      ],
      "source": [
        "from scipy import stats\n",
        "\n",
        "# Convert X to a pandas DataFrame\n",
        "X_df = pd.DataFrame(X)\n",
        "\n",
        "correlations = {}\n",
        "\n",
        "for feature in X_df.columns:\n",
        "    if X_df[feature].dtype == 'float64' or X_df[feature].dtype == 'int64':\n",
        "        corr, _ = stats.pointbiserialr(X_df[feature], y)\n",
        "        correlations[feature] = abs(corr)\n",
        "\n",
        "# Sort the correlations in ascending order\n",
        "sorted_correlations = sorted(correlations.items(), key=lambda x: x[1])\n",
        "\n",
        "# Get the list of least correlated features and their correlation values\n",
        "least_correlated_features = [feature for feature, _ in sorted_correlations]\n",
        "correlation_values = [corr for _, corr in sorted_correlations]\n",
        "\n",
        "# Print the list of least correlated features and their correlation values\n",
        "for feature, corr in zip(least_correlated_features, correlation_values):\n",
        "    print(f\"{feature}: {corr}\")\n"
      ]
    },
    {
      "attachments": {},
      "cell_type": "markdown",
      "metadata": {
        "id": "vrvfTObvXfED"
      },
      "source": [
        "# Splitting train into train and val sets\n"
      ]
    },
    {
      "cell_type": "code",
      "execution_count": 15,
      "metadata": {
        "colab": {
          "base_uri": "https://localhost:8080/"
        },
        "id": "p1P_yP2gM1Nn",
        "outputId": "6656d2be-2346-47c6-e61d-587a8aae4a1f"
      },
      "outputs": [
        {
          "name": "stdout",
          "output_type": "stream",
          "text": [
            "y\n",
            "0.0    211249\n",
            "1.0    124687\n",
            "Name: count, dtype: int64\n"
          ]
        }
      ],
      "source": [
        "\n",
        "X_train, X_val, y_train, y_val = train_test_split(X, y, test_size=0.2, random_state=42)\n",
        "\n",
        "print(y_train.value_counts())\n",
        "\n",
        "train_pool = Pool(data=X_train,label = y_train)\n",
        "\n",
        "\n",
        "val_pool = Pool(data=X_val,label = y_val)\n"
      ]
    },
    {
      "attachments": {},
      "cell_type": "markdown",
      "metadata": {
        "id": "u8e-2hcqXjtK"
      },
      "source": [
        "# Fixing class imbalance using smote oversampling\n"
      ]
    },
    {
      "cell_type": "code",
      "execution_count": 16,
      "metadata": {
        "colab": {
          "base_uri": "https://localhost:8080/"
        },
        "id": "Kx7IhRFMeUUq",
        "outputId": "09f4eb89-b2d0-4cc1-910e-f309993f4303"
      },
      "outputs": [
        {
          "name": "stdout",
          "output_type": "stream",
          "text": [
            "(422498, 35)\n",
            "Counter({1.0: 211249, 0.0: 211249})\n"
          ]
        }
      ],
      "source": [
        "\n",
        "# transform the dataset\n",
        "oversample = SMOTE()\n",
        "undersample = RandomUnderSampler(sampling_strategy=0.8)\n",
        "X_samp, y_samp = oversample.fit_resample(X_train, y_train)\n",
        "\n",
        "print(X_samp.shape)\n",
        "# X_samp, y_samp = undersample.fit_resample(X_samp, y_samp)\n",
        "\n",
        "counter = Counter(y_samp)\n",
        "print(counter)\n"
      ]
    },
    {
      "attachments": {},
      "cell_type": "markdown",
      "metadata": {
        "id": "heIReBQUXpVF"
      },
      "source": [
        "# CatBoost Model training and hyperparameter tuning\n"
      ]
    },
    {
      "cell_type": "code",
      "execution_count": 17,
      "metadata": {
        "colab": {
          "base_uri": "https://localhost:8080/"
        },
        "id": "TDudXq8anp-_",
        "outputId": "b5856cc2-d551-4d6a-9ef8-97ae5b686588"
      },
      "outputs": [
        {
          "ename": "ModuleNotFoundError",
          "evalue": "No module named 'google.colab'",
          "output_type": "error",
          "traceback": [
            "\u001b[1;31m---------------------------------------------------------------------------\u001b[0m",
            "\u001b[1;31mModuleNotFoundError\u001b[0m                       Traceback (most recent call last)",
            "Cell \u001b[1;32mIn[17], line 1\u001b[0m\n\u001b[1;32m----> 1\u001b[0m \u001b[39mfrom\u001b[39;00m \u001b[39mgoogle\u001b[39;00m\u001b[39m.\u001b[39;00m\u001b[39mcolab\u001b[39;00m \u001b[39mimport\u001b[39;00m output\n\u001b[0;32m      2\u001b[0m output\u001b[39m.\u001b[39menable_custom_widget_manager()\n\u001b[0;32m      5\u001b[0m param_grid \u001b[39m=\u001b[39m {\n\u001b[0;32m      6\u001b[0m     \u001b[39m'\u001b[39m\u001b[39miterations\u001b[39m\u001b[39m'\u001b[39m: [\u001b[39m500\u001b[39m, \u001b[39m1000\u001b[39m, \u001b[39m1500\u001b[39m],\n\u001b[0;32m      7\u001b[0m     \u001b[39m'\u001b[39m\u001b[39mlearning_rate\u001b[39m\u001b[39m'\u001b[39m: [\u001b[39m0.1\u001b[39m,\u001b[39m0.05\u001b[39m,\u001b[39m0.01\u001b[39m,\u001b[39m0.001\u001b[39m],\n\u001b[1;32m   (...)\u001b[0m\n\u001b[0;32m     13\u001b[0m     \u001b[39m'\u001b[39m\u001b[39mrandom_seed\u001b[39m\u001b[39m'\u001b[39m: [\u001b[39m42\u001b[39m]\n\u001b[0;32m     14\u001b[0m }\n",
            "\u001b[1;31mModuleNotFoundError\u001b[0m: No module named 'google.colab'"
          ]
        }
      ],
      "source": [
        "\n",
        "from google.colab import output\n",
        "output.enable_custom_widget_manager()\n",
        "\n",
        "\n",
        "param_grid = {\n",
        "    'iterations': [500, 1000, 1500],\n",
        "    'learning_rate': [0.1,0.05,0.01,0.001],\n",
        "    'depth': [4, 6, 8,10],\n",
        "    'l2_leaf_reg': [1, 3, 5,9],\n",
        "    'bagging_temperature': [0.8, 1.0, 1.2],\n",
        "    'border_count': [32, 64, 128],\n",
        "    'eval_metric': ['Logloss'],\n",
        "    'random_seed': [42]\n",
        "}\n",
        "\n",
        "model = CatBoostClassifier(task_type=\"GPU\")\n",
        "\n",
        "## can also do randomized search - more efficient typically, especially for large search space - `randomized_search`\n",
        "# grid_search_result = model.randomized_search(grid,\n",
        "#                                        train_pool,\n",
        "#                                        n_iter=1,\n",
        "#                                        plot=False,\n",
        "#                                        refit = True, #  refit best model on all data\n",
        "                                      # partition_random_seed=42)\n",
        "# print(model.get_best_score())\n",
        "\n",
        "\n",
        "random_search = RandomizedSearchCV(estimator=model, param_distributions=param_grid, n_iter=5, cv=3, random_state=42,verbose=2)\n",
        "random_search.fit(X_train, y_train)\n",
        "\n",
        "# Print the best parameters and the corresponding accuracy score\n",
        "print(\"Best Parameters:\", random_search.best_params_)\n",
        "print(\"Best Accuracy Score:\", random_search.best_score_)\n"
      ]
    },
    {
      "cell_type": "code",
      "execution_count": null,
      "metadata": {
        "colab": {
          "base_uri": "https://localhost:8080/",
          "height": 1000,
          "referenced_widgets": [
            "cf050fd2631a4abca9a80373ef25e76e"
          ]
        },
        "id": "oh7915J7fvme",
        "outputId": "8dba2a79-0d0b-4cb4-9bd5-90b790bbe34d"
      },
      "outputs": [],
      "source": [
        "# Fitting model on best params\n",
        "best_params =  {'random_seed': 42, 'learning_rate': 0.1, 'l2_leaf_reg': 9, 'iterations': 1500, 'depth': 6, 'border_count': 64, 'bagging_temperature': 1.0}\n",
        "\n",
        "train_pool_smote = Pool(data=X_train,label = y_train)\n",
        "\n",
        "model = CatBoostClassifier(**best_params,eval_metric ='AUC',task_type=\"GPU\")\n",
        "\n",
        "model.fit(train_pool_smote, plot=True,silent=False)\n",
        "print(model.get_best_score())"
      ]
    },
    {
      "cell_type": "code",
      "execution_count": null,
      "metadata": {
        "colab": {
          "base_uri": "https://localhost:8080/"
        },
        "id": "ZWQHaJBQ6TiU",
        "outputId": "846d21ed-b31e-479c-8588-70cb03e6eff3"
      },
      "outputs": [],
      "source": [
        "# Metrics on validation set\n",
        "\n",
        "import time\n",
        "\n",
        "t1 = time.time()\n",
        "\n",
        "print(\"Validation Set Length\")\n",
        "print(len(X_val))\n",
        "\n",
        "y_pred = model.predict(X_val)\n",
        "\n",
        "t2 = time.time()\n",
        "\n",
        "tot = t2-t1\n",
        "\n",
        "print(tot)\n",
        "\n",
        "# Calculate evaluation metrics\n",
        "accuracy = accuracy_score(y_val, y_pred)\n",
        "precision = precision_score(y_val, y_pred, average='weighted')\n",
        "recall = recall_score(y_val, y_pred, average='weighted')\n",
        "f1 = f1_score(y_val, y_pred, average='weighted')\n",
        "\n",
        "# Print the evaluation metrics\n",
        "print(\"Accuracy:\", accuracy)\n",
        "print(\"Precision:\", precision)\n",
        "print(\"Recall:\", recall)\n",
        "print(\"F1-Score:\", f1)\n",
        "\n",
        "precision = precision_score(y_val, y_pred, average=None)\n",
        "recall = recall_score(y_val, y_pred, average=None)\n",
        "f1 = f1_score(y_val, y_pred, average=None)\n",
        "\n",
        "# Calculate the confusion matrix\n",
        "confusion_mat = confusion_matrix(y_val, y_pred)\n",
        "\n",
        "# Print the results\n",
        "class_names = np.unique(y)\n",
        "for i, class_name in enumerate(class_names):\n",
        "    print(f'Class: {class_name}')\n",
        "    print(f'Precision: {precision[i]}')\n",
        "    print(f'Recall: {recall[i]}')\n",
        "    print(f'F1 Score: {f1[i]}')\n",
        "    print('---')\n",
        "\n",
        "print('Confusion Matrix:')\n",
        "print(confusion_mat)\n"
      ]
    },
    {
      "attachments": {},
      "cell_type": "markdown",
      "metadata": {
        "id": "jyn0YYH9X1UC"
      },
      "source": [
        "# Fit Randomforest Classifier Model\n"
      ]
    },
    {
      "cell_type": "code",
      "execution_count": null,
      "metadata": {
        "colab": {
          "base_uri": "https://localhost:8080/",
          "height": 702
        },
        "id": "_7HViDY_lM9q",
        "outputId": "e798c34a-2c58-41d6-fe6f-aea82e516869"
      },
      "outputs": [],
      "source": [
        "\n",
        "clf = RandomForestClassifier(n_estimators=100, random_state=0)\n",
        "clf.fit(X_train, y_train)\n",
        "y_pred = clf.predict(X_val)\n",
        "\n",
        "predictions = [round(value) for value in y_pred]\n",
        "accuracy = accuracy_score(y_val, predictions)\n",
        "print(\"Test Set Accuracy: %.2f%%\" % (accuracy * 100.0))\n",
        "\n",
        "# Plot and extract the most important features for the model\n",
        "\n",
        "plt.figure(num=None, figsize=(10,8), dpi=80, facecolor='w', edgecolor='k')\n",
        "feat_importances = pd.Series(clf.feature_importances_, index= X.columns)\n",
        "feat_importances.sort_values(ascending=False,inplace=True)\n",
        "\n",
        "print(\"Most important Features\")\n",
        "\n",
        "imp_features = feat_importances.nlargest(20).index.tolist()\n",
        "\n",
        "print(imp_features)\n",
        "\n",
        "feat_importances.plot(kind='barh')\n",
        "\n",
        "accuracy = accuracy_score(y_val, predictions)\n",
        "precision = precision_score(y_val, predictions, average='weighted')\n",
        "recall = recall_score(y_val, predictions, average='weighted')\n",
        "f1 = f1_score(y_val, predictions, average='weighted')\n",
        "\n",
        "print(\"Accuracy:\", accuracy)\n",
        "print(\"Precision:\", precision)\n",
        "print(\"Recall:\", recall)\n",
        "print(\"F1-Score:\", f1)\n",
        "\n",
        "print('----------------------')\n",
        "\n",
        "\n",
        "# Here it can be observed that"
      ]
    },
    {
      "cell_type": "code",
      "execution_count": null,
      "metadata": {
        "colab": {
          "base_uri": "https://localhost:8080/"
        },
        "id": "G58na-_Y2F3R",
        "outputId": "1dfdea52-6ab5-4870-add1-8f82f6664c64"
      },
      "outputs": [],
      "source": [
        "# Getting final feature importances\n",
        "\n",
        "feature_importances = model.get_feature_importance(train_pool)\n",
        "feature_names = X.columns\n",
        "for score, name in sorted(zip(feature_importances, feature_names), reverse=True):\n",
        "    if score > 0.2:\n",
        "        print('{0}: {1:.2f}'.format(name, score))"
      ]
    },
    {
      "attachments": {},
      "cell_type": "markdown",
      "metadata": {
        "id": "BTJwWrwPYSvz"
      },
      "source": [
        "# Training XGBOOST model\n"
      ]
    },
    {
      "cell_type": "code",
      "execution_count": null,
      "metadata": {
        "colab": {
          "base_uri": "https://localhost:8080/"
        },
        "id": "ZsbUlnG6TNmV",
        "outputId": "69c67a2f-ac8f-4d35-c431-6c229872839c"
      },
      "outputs": [],
      "source": [
        "\n",
        "clf1 = XGBClassifier(\n",
        " verbosity=2,\n",
        " learning_rate =0.6,\n",
        " n_estimators=200,\n",
        " max_depth=12,\n",
        "#  min_child_weight=1,\n",
        "#  gamma=2,\n",
        "#  subsample=0.8,\n",
        "#  colsample_bytree=0.94,\n",
        " objective= 'binary:logistic',\n",
        "#  nthread=4,\n",
        "#  scale_pos_weight=2,\n",
        "#  reg_alpha=0.5,\n",
        "#  reg_lambda=0.5,\n",
        " seed=27)\n",
        "\n",
        "clf1.fit(X_samp, y_samp)\n",
        "\n",
        "y_pred = clf1.predict(X_val)\n",
        "predictions = [round(value) for value in y_pred]\n",
        "accuracy = accuracy_score(y_val, predictions)\n",
        "print(\"Baseline Test Set Accuracy: %.2f%%\" % (accuracy * 100.0))\n"
      ]
    },
    {
      "attachments": {},
      "cell_type": "markdown",
      "metadata": {
        "id": "LeTWtqnZYUwd"
      },
      "source": [
        "# Validation of XGBOOST model\n"
      ]
    },
    {
      "cell_type": "code",
      "execution_count": null,
      "metadata": {
        "colab": {
          "base_uri": "https://localhost:8080/"
        },
        "id": "6piUxptmC07I",
        "outputId": "2b83da09-56f6-4f59-a9b7-8eb1422edc4b"
      },
      "outputs": [],
      "source": [
        "accuracy = accuracy_score(y_val, y_pred)\n",
        "precision = precision_score(y_val, y_pred, average='weighted')\n",
        "recall = recall_score(y_val, y_pred, average='weighted')\n",
        "f1 = f1_score(y_val, y_pred, average='weighted')\n",
        "\n",
        "print(\"Accuracy:\", accuracy)\n",
        "print(\"Precision:\", precision)\n",
        "print(\"Recall:\", recall)\n",
        "print(\"F1-Score:\", f1)\n",
        "\n",
        "print('----------------------')\n",
        "\n",
        "\n",
        "\n",
        "precision = precision_score(y_val, y_pred, average=None)\n",
        "recall = recall_score(y_val, y_pred, average=None)\n",
        "f1 = f1_score(y_val, y_pred, average=None)\n",
        "\n",
        "# Calculate the confusion matrix\n",
        "confusion_mat = confusion_matrix(y_val, y_pred)\n",
        "\n",
        "# Print the results\n",
        "class_names = np.unique(y)\n",
        "for i, class_name in enumerate(class_names):\n",
        "    print(f'Class: {class_name}')\n",
        "    print(f'Precision: {precision[i]}')\n",
        "    print(f'Recall: {recall[i]}')\n",
        "    print(f'F1 Score: {f1[i]}')\n",
        "    print('---')\n",
        "\n",
        "print('Confusion Matrix:')\n",
        "print(confusion_mat)\n"
      ]
    },
    {
      "attachments": {},
      "cell_type": "markdown",
      "metadata": {
        "id": "I29A7HQmYZbK"
      },
      "source": [
        "#   XGBOOST hyperparameter tuning\n"
      ]
    },
    {
      "cell_type": "code",
      "execution_count": null,
      "metadata": {
        "id": "MJNMUwS0B1uQ"
      },
      "outputs": [],
      "source": [
        "\n",
        "def objective(space):\n",
        "\n",
        "    classifier = XGBClassifier(n_estimators = space['n_estimators'],\n",
        "                            max_depth = int(space['max_depth']),\n",
        "                            learning_rate = space['learning_rate'],\n",
        "                            gamma = space['gamma'],\n",
        "                            min_child_weight = space['min_child_weight'],\n",
        "                            subsample = space['subsample'],\n",
        "                            reg_alpha = space['reg_alpha'],\n",
        "                            reg_lambda = space['reg_lambda'],\n",
        "                            colsample_bytree = space['colsample_bytree'],\n",
        "                            objective= 'binary:logistic',\n",
        "                            scale_pos_weight = 5\n",
        "                            )\n",
        "\n",
        "    classifier.fit(X, y)\n",
        "\n",
        "    # Applying k-Fold Cross Validation\n",
        "    accuracies = cross_val_score(estimator = classifier, X = X_train, y = y_train, cv = 10,scoring='f1')\n",
        "    CrossValMean = accuracies.mean()\n",
        "\n",
        "    print(\"CrossValMean:\", CrossValMean)\n",
        "\n",
        "    return{'loss':1-CrossValMean, 'status': STATUS_OK }\n",
        "\n",
        "\n",
        "# Possible values for various hyperparamters\n",
        "\n",
        "space = {\n",
        "    'max_depth' : hp.choice('max_depth', range(2, 10, 1)),\n",
        "    'learning_rate' : hp.quniform('learning_rate', 0.6, 1, 0.01),\n",
        "    'n_estimators' : hp.choice('n_estimators', range(20, 1500, 10)),\n",
        "    'gamma' : hp.quniform('gamma', 2, 4, 0.1),\n",
        "    'reg_alpha' : hp.quniform('reg_alpha', 0.3, 1, 0.1),\n",
        "    'reg_lambda' : hp.quniform('reg_lambda', 0.3, 1, 0.1),\n",
        "    'min_child_weight' : hp.quniform('min_child_weight', 1, 10, 1),\n",
        "    'subsample' : hp.quniform('subsample', 0.1, 1, 0.01),\n",
        "    'colsample_bytree' : hp.quniform('colsample_bytree', 0.1, 1.0, 0.01)}\n",
        "\n",
        "trials = Trials()\n",
        "best = fmin(fn=objective,\n",
        "            space=space,\n",
        "            algo=tpe.suggest,\n",
        "            max_evals=5,\n",
        "            trials=trials)\n",
        "\n",
        "print(\"Best: \", best)\n"
      ]
    },
    {
      "attachments": {},
      "cell_type": "markdown",
      "metadata": {
        "id": "uNXXx0VKZ_lK"
      },
      "source": [
        "# Extratrees Classifier"
      ]
    },
    {
      "cell_type": "code",
      "execution_count": null,
      "metadata": {
        "colab": {
          "base_uri": "https://localhost:8080/"
        },
        "id": "sBvTp0IerOfo",
        "outputId": "0c61c519-93fc-45d4-cccf-557115be92e0"
      },
      "outputs": [],
      "source": [
        "\n",
        "\n",
        "from sklearn.ensemble import ExtraTreesClassifier\n",
        "\n",
        "# Define the baseline hyperparameters\n",
        "params = {\n",
        "    'n_estimators': 300,\n",
        "    'max_depth': None,\n",
        "    'min_samples_split': 2,\n",
        "    'min_samples_leaf': 1,\n",
        "    'max_features': 'auto',\n",
        "    'random_state': 42\n",
        "}\n",
        "\n",
        "# Create an instance of the ExtraTreesClassifier\n",
        "model = ExtraTreesClassifier(**params)\n",
        "\n",
        "# Fit the model to your training data\n",
        "model.fit(X_train, y_train)\n",
        "\n",
        "# Predict on the test data\n",
        "y_pred = model.predict(X_val)\n",
        "\n",
        "# Evaluate the model\n",
        "accuracy = accuracy_score(y_val, y_pred)\n",
        "precision = precision_score(y_val, y_pred, average='weighted')\n",
        "recall = recall_score(y_val, y_pred, average='weighted')\n",
        "f1 = f1_score(y_val, y_pred, average='weighted')\n",
        "\n",
        "print(\"Accuracy:\", accuracy)\n",
        "print(\"Precision:\", precision)\n",
        "print(\"Recall:\", recall)\n",
        "print(\"F1-Score:\", f1)\n",
        "\n",
        "print('----------------------')\n"
      ]
    },
    {
      "attachments": {},
      "cell_type": "markdown",
      "metadata": {
        "id": "8egDls84aDNM"
      },
      "source": [
        "# AdaBoost Classifier"
      ]
    },
    {
      "cell_type": "code",
      "execution_count": null,
      "metadata": {
        "colab": {
          "background_save": true
        },
        "id": "YDFOkn65M9Nb",
        "outputId": "84dd1693-d859-4a5b-cdbc-d06535197593"
      },
      "outputs": [],
      "source": [
        "from sklearn.ensemble import AdaBoostClassifier\n",
        "from sklearn.metrics import accuracy_score\n",
        "\n",
        "\n",
        "model = AdaBoostClassifier(n_estimators=300, random_state=42)\n",
        "\n",
        "# Fit the model to your training data\n",
        "model.fit(X_train, y_train)\n",
        "\n",
        "# Predict on the test data\n",
        "y_pred = model.predict(X_val)\n",
        "\n",
        "# Evaluate the model\n",
        "accuracy = accuracy_score(y_val, y_pred)\n",
        "precision = precision_score(y_val, y_pred, average='weighted')\n",
        "recall = recall_score(y_val, y_pred, average='weighted')\n",
        "f1 = f1_score(y_val, y_pred, average='weighted')\n",
        "\n",
        "print(\"Accuracy:\", accuracy)\n",
        "print(\"Precision:\", precision)\n",
        "print(\"Recall:\", recall)\n",
        "print(\"F1-Score:\", f1)\n",
        "\n",
        "print('----------------------')"
      ]
    },
    {
      "attachments": {},
      "cell_type": "markdown",
      "metadata": {
        "id": "yyVFAr1SA5Qm"
      },
      "source": [
        "# SVM Classifier"
      ]
    },
    {
      "cell_type": "code",
      "execution_count": null,
      "metadata": {
        "colab": {
          "base_uri": "https://localhost:8080/"
        },
        "id": "dfVP49JlZif0",
        "outputId": "cb0e4d69-4c39-4f24-b3f6-51b51aeebc2b"
      },
      "outputs": [],
      "source": [
        "from sklearn import svm\n",
        "from sklearn.preprocessing import StandardScaler\n",
        "\n",
        "\n",
        "scaler = StandardScaler()\n",
        "X_train_scaled = scaler.fit_transform(X_train)\n",
        "X_val_scaled = scaler.transform(X_val)\n",
        "\n",
        "\n",
        "\n",
        "# Create a SVM classifier\n",
        "clf = svm.SVC(kernel='rbf', C=1.0)  # You can choose the appropriate kernel type and C value\n",
        "\n",
        "# Train the SVM classifier\n",
        "\n",
        "X_train_scaled = X_train_scaled[:100000]\n",
        "y_train = y_train[:100000]\n",
        "\n",
        "clf.fit(X_train_scaled, y_train)\n",
        "\n",
        "# Predict on the test set\n",
        "y_pred = clf.predict(X_val_scaled)\n",
        "\n",
        "\n",
        "\n",
        "# Evaluate the classifier performance\n",
        "accuracy = accuracy_score(y_val, y_pred)\n",
        "precision = precision_score(y_val, y_pred, average='weighted')\n",
        "recall = recall_score(y_val, y_pred, average='weighted')\n",
        "f1 = f1_score(y_val, y_pred, average='weighted')\n",
        "\n",
        "print(\"Accuracy:\", accuracy)\n",
        "print(\"Precision:\", precision)\n",
        "print(\"Recall:\", recall)\n",
        "print(\"F1-Score:\", f1)\n",
        "\n",
        "print('----------------------')"
      ]
    },
    {
      "attachments": {},
      "cell_type": "markdown",
      "metadata": {
        "id": "QkyGuumrVmAr"
      },
      "source": []
    },
    {
      "attachments": {},
      "cell_type": "markdown",
      "metadata": {
        "id": "tqyqZEfkVm-q"
      },
      "source": [
        "# LightGBM classifier"
      ]
    },
    {
      "cell_type": "code",
      "execution_count": null,
      "metadata": {
        "colab": {
          "base_uri": "https://localhost:8080/"
        },
        "id": "1X5QxFrPDCzx",
        "outputId": "b9b850a3-30f3-42d3-ba53-cba0c393de89"
      },
      "outputs": [],
      "source": [
        "import lightgbm as lgb\n",
        "train_data = lgb.Dataset(X_train, label=y_train)\n",
        "\n",
        "# Set hyperparameters for LightGBM\n",
        "params = {\n",
        "    'objective': 'binary',\n",
        "    'metric': 'binary_logloss',\n",
        "    'boosting_type': 'gbdt',\n",
        "    'num_leaves': 31,\n",
        "    'learning_rate': 0.05,\n",
        "    'feature_fraction': 0.9,\n",
        "    'bagging_fraction': 0.8,\n",
        "    'bagging_freq': 5,\n",
        "    'verbose': 0\n",
        "}\n",
        "\n",
        "# Train the LightGBM classifier\n",
        "model = lgb.train(params, train_data, num_boost_round=100)\n",
        "\n",
        "# Predict on the test set\n",
        "y_pred = model.predict(X_val)\n",
        "y_pred_binary = [1 if pred >= 0.5 else 0 for pred in y_pred]\n",
        "\n",
        "accuracy = accuracy_score(y_val, y_pred_binary)\n",
        "precision = precision_score(y_val, y_pred_binary, average='weighted')\n",
        "recall = recall_score(y_val, y_pred_binary, average='weighted')\n",
        "f1 = f1_score(y_val, y_pred_binary, average='weighted')\n",
        "\n",
        "print(\"Accuracy:\", accuracy)\n",
        "print(\"Precision:\", precision)\n",
        "print(\"Recall:\", recall)\n",
        "print(\"F1-Score:\", f1)\n",
        "\n",
        "print('----------------------')\n",
        "\n"
      ]
    }
  ],
  "metadata": {
    "accelerator": "GPU",
    "colab": {
      "provenance": []
    },
    "kernelspec": {
      "display_name": "Python 3",
      "name": "python3"
    },
    "language_info": {
      "codemirror_mode": {
        "name": "ipython",
        "version": 3
      },
      "file_extension": ".py",
      "mimetype": "text/x-python",
      "name": "python",
      "nbconvert_exporter": "python",
      "pygments_lexer": "ipython3",
      "version": "3.10.11"
    },
    "widgets": {
      "application/vnd.jupyter.widget-state+json": {
        "cf050fd2631a4abca9a80373ef25e76e": {
          "model_module": "catboost-widget",
          "model_module_version": "^1.0.0",
          "model_name": "CatboostWidgetModel",
          "state": {
            "_dom_classes": [],
            "_model_module": "catboost-widget",
            "_model_module_version": "^1.0.0",
            "_model_name": "CatboostWidgetModel",
            "_view_count": null,
            "_view_module": "catboost-widget",
            "_view_module_version": "^1.0.0",
            "_view_name": "CatboostWidgetView",
            "data": {
              "catboost_info": {
                "content": {
                  "data": {
                    "iterations": [
                      {
                        "iteration": 0,
                        "learn": [
                          0.6807439233
                        ],
                        "passed_time": 0.02743866187,
                        "remaining_time": 41.13055414
                      },
                      {
                        "iteration": 5,
                        "learn": [
                          0.6447443207
                        ],
                        "passed_time": 0.08460743601,
                        "remaining_time": 21.06725157
                      },
                      {
                        "iteration": 10,
                        "learn": [
                          0.6313157956
                        ],
                        "passed_time": 0.1504222404,
                        "remaining_time": 20.36170145
                      },
                      {
                        "iteration": 15,
                        "learn": [
                          0.625298699
                        ],
                        "passed_time": 0.2087745551,
                        "remaining_time": 19.36383998
                      },
                      {
                        "iteration": 20,
                        "learn": [
                          0.6218391952
                        ],
                        "passed_time": 0.2673613936,
                        "remaining_time": 18.82988101
                      },
                      {
                        "iteration": 25,
                        "learn": [
                          0.6198295583
                        ],
                        "passed_time": 0.3201473088,
                        "remaining_time": 18.14988974
                      },
                      {
                        "iteration": 30,
                        "learn": [
                          0.6183732727
                        ],
                        "passed_time": 0.3628390491,
                        "remaining_time": 17.19388913
                      },
                      {
                        "iteration": 35,
                        "learn": [
                          0.6171634534
                        ],
                        "passed_time": 0.4075237234,
                        "remaining_time": 16.57263142
                      },
                      {
                        "iteration": 40,
                        "learn": [
                          0.6163371706
                        ],
                        "passed_time": 0.445689383,
                        "remaining_time": 15.86001975
                      },
                      {
                        "iteration": 45,
                        "learn": [
                          0.6155859115
                        ],
                        "passed_time": 0.4839253104,
                        "remaining_time": 15.29624786
                      },
                      {
                        "iteration": 50,
                        "learn": [
                          0.6149153503
                        ],
                        "passed_time": 0.5303628555,
                        "remaining_time": 15.06854466
                      },
                      {
                        "iteration": 55,
                        "learn": [
                          0.6144153946
                        ],
                        "passed_time": 0.5648791599,
                        "remaining_time": 14.56581262
                      },
                      {
                        "iteration": 60,
                        "learn": [
                          0.6139535786
                        ],
                        "passed_time": 0.5992094615,
                        "remaining_time": 14.13544943
                      },
                      {
                        "iteration": 65,
                        "learn": [
                          0.6135203208
                        ],
                        "passed_time": 0.638359042,
                        "remaining_time": 13.869801
                      },
                      {
                        "iteration": 70,
                        "learn": [
                          0.6131813891
                        ],
                        "passed_time": 0.6723497431,
                        "remaining_time": 13.53222229
                      },
                      {
                        "iteration": 75,
                        "learn": [
                          0.6128166898
                        ],
                        "passed_time": 0.7066289215,
                        "remaining_time": 13.23999453
                      },
                      {
                        "iteration": 80,
                        "learn": [
                          0.6125174791
                        ],
                        "passed_time": 0.7413399218,
                        "remaining_time": 12.98717715
                      },
                      {
                        "iteration": 85,
                        "learn": [
                          0.6121920823
                        ],
                        "passed_time": 0.7853739577,
                        "remaining_time": 12.91300903
                      },
                      {
                        "iteration": 90,
                        "learn": [
                          0.6119199881
                        ],
                        "passed_time": 0.8197626078,
                        "remaining_time": 12.69280785
                      },
                      {
                        "iteration": 95,
                        "learn": [
                          0.6116493357
                        ],
                        "passed_time": 0.8610635678,
                        "remaining_time": 12.59305468
                      },
                      {
                        "iteration": 100,
                        "learn": [
                          0.6113959858
                        ],
                        "passed_time": 0.8965089663,
                        "remaining_time": 12.41798063
                      },
                      {
                        "iteration": 105,
                        "learn": [
                          0.6112050082
                        ],
                        "passed_time": 0.9325922147,
                        "remaining_time": 12.26446743
                      },
                      {
                        "iteration": 110,
                        "learn": [
                          0.6109695187
                        ],
                        "passed_time": 0.9678881136,
                        "remaining_time": 12.11168099
                      },
                      {
                        "iteration": 115,
                        "learn": [
                          0.6107519364
                        ],
                        "passed_time": 1.024354572,
                        "remaining_time": 12.22160972
                      },
                      {
                        "iteration": 120,
                        "learn": [
                          0.6105533308
                        ],
                        "passed_time": 1.062329943,
                        "remaining_time": 12.10704951
                      },
                      {
                        "iteration": 125,
                        "learn": [
                          0.6103549579
                        ],
                        "passed_time": 1.096570577,
                        "remaining_time": 11.95784106
                      },
                      {
                        "iteration": 130,
                        "learn": [
                          0.6101170498
                        ],
                        "passed_time": 1.13076241,
                        "remaining_time": 11.81689877
                      },
                      {
                        "iteration": 135,
                        "learn": [
                          0.6099364444
                        ],
                        "passed_time": 1.167630779,
                        "remaining_time": 11.71064987
                      },
                      {
                        "iteration": 140,
                        "learn": [
                          0.6097592343
                        ],
                        "passed_time": 1.204625427,
                        "remaining_time": 11.61053869
                      },
                      {
                        "iteration": 145,
                        "learn": [
                          0.6095695125
                        ],
                        "passed_time": 1.244833224,
                        "remaining_time": 11.54454922
                      },
                      {
                        "iteration": 150,
                        "learn": [
                          0.6093912791
                        ],
                        "passed_time": 1.279256433,
                        "remaining_time": 11.42858893
                      },
                      {
                        "iteration": 155,
                        "learn": [
                          0.6091816038
                        ],
                        "passed_time": 1.321412968,
                        "remaining_time": 11.38448096
                      },
                      {
                        "iteration": 160,
                        "learn": [
                          0.6090340217
                        ],
                        "passed_time": 1.355618566,
                        "remaining_time": 11.27436808
                      },
                      {
                        "iteration": 165,
                        "learn": [
                          0.6088395557
                        ],
                        "passed_time": 1.39739866,
                        "remaining_time": 11.22969766
                      },
                      {
                        "iteration": 170,
                        "learn": [
                          0.6087086249
                        ],
                        "passed_time": 1.435179833,
                        "remaining_time": 11.15411694
                      },
                      {
                        "iteration": 175,
                        "learn": [
                          0.6085375544
                        ],
                        "passed_time": 1.470251226,
                        "remaining_time": 11.060299
                      },
                      {
                        "iteration": 180,
                        "learn": [
                          0.6083891351
                        ],
                        "passed_time": 1.50410789,
                        "remaining_time": 10.96087462
                      },
                      {
                        "iteration": 185,
                        "learn": [
                          0.6082270879
                        ],
                        "passed_time": 1.53902581,
                        "remaining_time": 10.87247266
                      },
                      {
                        "iteration": 190,
                        "learn": [
                          0.6080516918
                        ],
                        "passed_time": 1.573561312,
                        "remaining_time": 10.78425004
                      },
                      {
                        "iteration": 195,
                        "learn": [
                          0.6079193656
                        ],
                        "passed_time": 1.607324989,
                        "remaining_time": 10.69363156
                      },
                      {
                        "iteration": 200,
                        "learn": [
                          0.6077952255
                        ],
                        "passed_time": 1.645858758,
                        "remaining_time": 10.63666929
                      },
                      {
                        "iteration": 205,
                        "learn": [
                          0.6076702482
                        ],
                        "passed_time": 1.679447062,
                        "remaining_time": 10.5495364
                      },
                      {
                        "iteration": 210,
                        "learn": [
                          0.6075493639
                        ],
                        "passed_time": 1.72127644,
                        "remaining_time": 10.51528593
                      },
                      {
                        "iteration": 215,
                        "learn": [
                          0.6073992237
                        ],
                        "passed_time": 1.756884938,
                        "remaining_time": 10.44370491
                      },
                      {
                        "iteration": 220,
                        "learn": [
                          0.6072518742
                        ],
                        "passed_time": 1.797465384,
                        "remaining_time": 10.40252591
                      },
                      {
                        "iteration": 225,
                        "learn": [
                          0.6070941526
                        ],
                        "passed_time": 1.83614646,
                        "remaining_time": 10.35066633
                      },
                      {
                        "iteration": 230,
                        "learn": [
                          0.6069646637
                        ],
                        "passed_time": 1.870290824,
                        "remaining_time": 10.27445479
                      },
                      {
                        "iteration": 235,
                        "learn": [
                          0.6068307561
                        ],
                        "passed_time": 1.904547267,
                        "remaining_time": 10.20062604
                      },
                      {
                        "iteration": 240,
                        "learn": [
                          0.606686802
                        ],
                        "passed_time": 1.940132619,
                        "remaining_time": 10.13538161
                      },
                      {
                        "iteration": 245,
                        "learn": [
                          0.6065577316
                        ],
                        "passed_time": 2.007432175,
                        "remaining_time": 10.23300792
                      },
                      {
                        "iteration": 250,
                        "learn": [
                          0.6064173124
                        ],
                        "passed_time": 2.046196252,
                        "remaining_time": 10.1820682
                      },
                      {
                        "iteration": 255,
                        "learn": [
                          0.6062872188
                        ],
                        "passed_time": 2.080634267,
                        "remaining_time": 10.11058214
                      },
                      {
                        "iteration": 260,
                        "learn": [
                          0.6061461019
                        ],
                        "passed_time": 2.117795713,
                        "remaining_time": 10.05344402
                      },
                      {
                        "iteration": 265,
                        "learn": [
                          0.6060119152
                        ],
                        "passed_time": 2.155729614,
                        "remaining_time": 10.00064039
                      },
                      {
                        "iteration": 270,
                        "learn": [
                          0.6059026589
                        ],
                        "passed_time": 2.189406792,
                        "remaining_time": 9.929080986
                      },
                      {
                        "iteration": 275,
                        "learn": [
                          0.6057918212
                        ],
                        "passed_time": 2.222976447,
                        "remaining_time": 9.858417286
                      },
                      {
                        "iteration": 280,
                        "learn": [
                          0.6056821463
                        ],
                        "passed_time": 2.261162829,
                        "remaining_time": 9.809101384
                      },
                      {
                        "iteration": 285,
                        "learn": [
                          0.6055509364
                        ],
                        "passed_time": 2.295261392,
                        "remaining_time": 9.742822833
                      },
                      {
                        "iteration": 290,
                        "learn": [
                          0.6054187033
                        ],
                        "passed_time": 2.338456503,
                        "remaining_time": 9.715442997
                      },
                      {
                        "iteration": 295,
                        "learn": [
                          0.605293819
                        ],
                        "passed_time": 2.372116247,
                        "remaining_time": 9.648743113
                      },
                      {
                        "iteration": 300,
                        "learn": [
                          0.6051471672
                        ],
                        "passed_time": 2.413777652,
                        "remaining_time": 9.615014633
                      },
                      {
                        "iteration": 305,
                        "learn": [
                          0.605042376
                        ],
                        "passed_time": 2.449582096,
                        "remaining_time": 9.558173277
                      },
                      {
                        "iteration": 310,
                        "learn": [
                          0.6049098638
                        ],
                        "passed_time": 2.484048836,
                        "remaining_time": 9.496894103
                      },
                      {
                        "iteration": 315,
                        "learn": [
                          0.6047904214
                        ],
                        "passed_time": 2.51799271,
                        "remaining_time": 9.434504332
                      },
                      {
                        "iteration": 320,
                        "learn": [
                          0.6046858628
                        ],
                        "passed_time": 2.55217063,
                        "remaining_time": 9.373860352
                      },
                      {
                        "iteration": 325,
                        "learn": [
                          0.6045707925
                        ],
                        "passed_time": 2.585847174,
                        "remaining_time": 9.312222647
                      },
                      {
                        "iteration": 330,
                        "learn": [
                          0.6044642804
                        ],
                        "passed_time": 2.619718248,
                        "remaining_time": 9.252116712
                      },
                      {
                        "iteration": 335,
                        "learn": [
                          0.6043524659
                        ],
                        "passed_time": 2.682469692,
                        "remaining_time": 9.292841434
                      },
                      {
                        "iteration": 340,
                        "learn": [
                          0.6042262793
                        ],
                        "passed_time": 2.741196935,
                        "remaining_time": 9.3168541
                      },
                      {
                        "iteration": 345,
                        "learn": [
                          0.6041164649
                        ],
                        "passed_time": 2.79976244,
                        "remaining_time": 9.337936001
                      },
                      {
                        "iteration": 350,
                        "learn": [
                          0.6039860922
                        ],
                        "passed_time": 2.836732637,
                        "remaining_time": 9.286056409
                      },
                      {
                        "iteration": 355,
                        "learn": [
                          0.603884929
                        ],
                        "passed_time": 2.874500863,
                        "remaining_time": 9.237160076
                      },
                      {
                        "iteration": 360,
                        "learn": [
                          0.6037933007
                        ],
                        "passed_time": 2.918030603,
                        "remaining_time": 9.206750297
                      },
                      {
                        "iteration": 365,
                        "learn": [
                          0.6036677187
                        ],
                        "passed_time": 2.954815139,
                        "remaining_time": 9.15508297
                      },
                      {
                        "iteration": 370,
                        "learn": [
                          0.603550881
                        ],
                        "passed_time": 3.004791574,
                        "remaining_time": 9.143961422
                      },
                      {
                        "iteration": 375,
                        "learn": [
                          0.6034396712
                        ],
                        "passed_time": 3.038932728,
                        "remaining_time": 9.084469112
                      },
                      {
                        "iteration": 380,
                        "learn": [
                          0.6033424149
                        ],
                        "passed_time": 3.079376375,
                        "remaining_time": 9.04415266
                      },
                      {
                        "iteration": 385,
                        "learn": [
                          0.6032401354
                        ],
                        "passed_time": 3.113729501,
                        "remaining_time": 8.986255605
                      },
                      {
                        "iteration": 390,
                        "learn": [
                          0.6031333907
                        ],
                        "passed_time": 3.147562368,
                        "remaining_time": 8.927485081
                      },
                      {
                        "iteration": 395,
                        "learn": [
                          0.6030072506
                        ],
                        "passed_time": 3.182220121,
                        "remaining_time": 8.871643973
                      },
                      {
                        "iteration": 400,
                        "learn": [
                          0.6028699012
                        ],
                        "passed_time": 3.216736945,
                        "remaining_time": 8.815944895
                      },
                      {
                        "iteration": 405,
                        "learn": [
                          0.6027556216
                        ],
                        "passed_time": 3.25563228,
                        "remaining_time": 8.7725658
                      },
                      {
                        "iteration": 410,
                        "learn": [
                          0.6026365978
                        ],
                        "passed_time": 3.298802089,
                        "remaining_time": 8.740621593
                      },
                      {
                        "iteration": 415,
                        "learn": [
                          0.6025246438
                        ],
                        "passed_time": 3.332713409,
                        "remaining_time": 8.684282057
                      },
                      {
                        "iteration": 420,
                        "learn": [
                          0.6024063177
                        ],
                        "passed_time": 3.377314043,
                        "remaining_time": 8.655871383
                      },
                      {
                        "iteration": 425,
                        "learn": [
                          0.60228548
                        ],
                        "passed_time": 3.411815521,
                        "remaining_time": 8.601619412
                      },
                      {
                        "iteration": 430,
                        "learn": [
                          0.6021672004
                        ],
                        "passed_time": 3.450961841,
                        "remaining_time": 8.559346191
                      },
                      {
                        "iteration": 435,
                        "learn": [
                          0.6020478045
                        ],
                        "passed_time": 3.488731216,
                        "remaining_time": 8.513784435
                      },
                      {
                        "iteration": 440,
                        "learn": [
                          0.6019403622
                        ],
                        "passed_time": 3.525698401,
                        "remaining_time": 8.46647303
                      },
                      {
                        "iteration": 445,
                        "learn": [
                          0.6018029197
                        ],
                        "passed_time": 3.56169778,
                        "remaining_time": 8.417106413
                      },
                      {
                        "iteration": 450,
                        "learn": [
                          0.6016983146
                        ],
                        "passed_time": 3.595847854,
                        "remaining_time": 8.363734809
                      },
                      {
                        "iteration": 455,
                        "learn": [
                          0.6015822675
                        ],
                        "passed_time": 3.630338614,
                        "remaining_time": 8.311564722
                      },
                      {
                        "iteration": 460,
                        "learn": [
                          0.6014863601
                        ],
                        "passed_time": 3.669308783,
                        "remaining_time": 8.269873808
                      },
                      {
                        "iteration": 465,
                        "learn": [
                          0.601363848
                        ],
                        "passed_time": 3.703379581,
                        "remaining_time": 8.217370143
                      },
                      {
                        "iteration": 470,
                        "learn": [
                          0.6012517079
                        ],
                        "passed_time": 3.74042672,
                        "remaining_time": 8.171760286
                      },
                      {
                        "iteration": 475,
                        "learn": [
                          0.6011494749
                        ],
                        "passed_time": 3.774823079,
                        "remaining_time": 8.120627801
                      },
                      {
                        "iteration": 480,
                        "learn": [
                          0.6010431023
                        ],
                        "passed_time": 3.808970191,
                        "remaining_time": 8.069315229
                      },
                      {
                        "iteration": 485,
                        "learn": [
                          0.600914032
                        ],
                        "passed_time": 3.849127977,
                        "remaining_time": 8.030896643
                      },
                      {
                        "iteration": 490,
                        "learn": [
                          0.6007951477
                        ],
                        "passed_time": 3.893457946,
                        "remaining_time": 8.00101643
                      },
                      {
                        "iteration": 495,
                        "learn": [
                          0.6007033334
                        ],
                        "passed_time": 3.927455432,
                        "remaining_time": 7.949929948
                      },
                      {
                        "iteration": 500,
                        "learn": [
                          0.600593705
                        ],
                        "passed_time": 3.975851159,
                        "remaining_time": 7.927894826
                      },
                      {
                        "iteration": 505,
                        "learn": [
                          0.6004886813
                        ],
                        "passed_time": 4.011280446,
                        "remaining_time": 7.879867122
                      },
                      {
                        "iteration": 510,
                        "learn": [
                          0.6003803087
                        ],
                        "passed_time": 4.053297701,
                        "remaining_time": 7.844836451
                      },
                      {
                        "iteration": 515,
                        "learn": [
                          0.6002613314
                        ],
                        "passed_time": 4.089756455,
                        "remaining_time": 7.799070449
                      },
                      {
                        "iteration": 520,
                        "learn": [
                          0.6001454239
                        ],
                        "passed_time": 4.126684611,
                        "remaining_time": 7.754365132
                      },
                      {
                        "iteration": 525,
                        "learn": [
                          0.6000408653
                        ],
                        "passed_time": 4.162515059,
                        "remaining_time": 7.707775033
                      },
                      {
                        "iteration": 530,
                        "learn": [
                          0.5999318881
                        ],
                        "passed_time": 4.196468105,
                        "remaining_time": 7.657961571
                      },
                      {
                        "iteration": 535,
                        "learn": [
                          0.5998301202
                        ],
                        "passed_time": 4.230997561,
                        "remaining_time": 7.609480688
                      },
                      {
                        "iteration": 540,
                        "learn": [
                          0.5997322593
                        ],
                        "passed_time": 4.280404067,
                        "remaining_time": 7.587629391
                      },
                      {
                        "iteration": 545,
                        "learn": [
                          0.5996025843
                        ],
                        "passed_time": 4.314969289,
                        "remaining_time": 7.539341945
                      },
                      {
                        "iteration": 550,
                        "learn": [
                          0.5994840256
                        ],
                        "passed_time": 4.349646817,
                        "remaining_time": 7.491496968
                      },
                      {
                        "iteration": 555,
                        "learn": [
                          0.5993801647
                        ],
                        "passed_time": 4.392594853,
                        "remaining_time": 7.45793083
                      },
                      {
                        "iteration": 560,
                        "learn": [
                          0.5992765363
                        ],
                        "passed_time": 4.427129681,
                        "remaining_time": 7.410115455
                      },
                      {
                        "iteration": 565,
                        "learn": [
                          0.5991858382
                        ],
                        "passed_time": 4.466246366,
                        "remaining_time": 7.370095593
                      },
                      {
                        "iteration": 570,
                        "learn": [
                          0.5990861168
                        ],
                        "passed_time": 4.500720766,
                        "remaining_time": 7.322538689
                      },
                      {
                        "iteration": 575,
                        "learn": [
                          0.5989842094
                        ],
                        "passed_time": 4.535189216,
                        "remaining_time": 7.275199368
                      },
                      {
                        "iteration": 580,
                        "learn": [
                          0.5989020695
                        ],
                        "passed_time": 4.56958198,
                        "remaining_time": 7.227961859
                      },
                      {
                        "iteration": 585,
                        "learn": [
                          0.5987934644
                        ],
                        "passed_time": 4.603882867,
                        "remaining_time": 7.180800239
                      },
                      {
                        "iteration": 590,
                        "learn": [
                          0.5986920221
                        ],
                        "passed_time": 4.6396923,
                        "remaining_time": 7.136176481
                      },
                      {
                        "iteration": 595,
                        "learn": [
                          0.5985979751
                        ],
                        "passed_time": 4.679836112,
                        "remaining_time": 7.098274908
                      },
                      {
                        "iteration": 600,
                        "learn": [
                          0.5984937421
                        ],
                        "passed_time": 4.717446116,
                        "remaining_time": 7.056545854
                      },
                      {
                        "iteration": 605,
                        "learn": [
                          0.5983881602
                        ],
                        "passed_time": 4.776366657,
                        "remaining_time": 7.046323088
                      },
                      {
                        "iteration": 610,
                        "learn": [
                          0.5982867179
                        ],
                        "passed_time": 4.812007403,
                        "remaining_time": 7.001431393
                      },
                      {
                        "iteration": 615,
                        "learn": [
                          0.5981816477
                        ],
                        "passed_time": 4.846124319,
                        "remaining_time": 6.954503081
                      },
                      {
                        "iteration": 620,
                        "learn": [
                          0.5980897868
                        ],
                        "passed_time": 4.885704935,
                        "remaining_time": 6.915514715
                      },
                      {
                        "iteration": 625,
                        "learn": [
                          0.5979857398
                        ],
                        "passed_time": 4.925666615,
                        "remaining_time": 6.877048916
                      },
                      {
                        "iteration": 630,
                        "learn": [
                          0.5978956929
                        ],
                        "passed_time": 4.970384002,
                        "remaining_time": 6.845108871
                      },
                      {
                        "iteration": 635,
                        "learn": [
                          0.5978007623
                        ],
                        "passed_time": 5.012853395,
                        "remaining_time": 6.809914046
                      },
                      {
                        "iteration": 640,
                        "learn": [
                          0.5976791803
                        ],
                        "passed_time": 5.077538578,
                        "remaining_time": 6.804376972
                      },
                      {
                        "iteration": 645,
                        "learn": [
                          0.5975811334
                        ],
                        "passed_time": 5.294415579,
                        "remaining_time": 6.999119048
                      },
                      {
                        "iteration": 650,
                        "learn": [
                          0.5974721562
                        ],
                        "passed_time": 5.485247138,
                        "remaining_time": 7.153571152
                      },
                      {
                        "iteration": 655,
                        "learn": [
                          0.5973726208
                        ],
                        "passed_time": 5.627775682,
                        "remaining_time": 7.240613835
                      },
                      {
                        "iteration": 660,
                        "learn": [
                          0.5972823879
                        ],
                        "passed_time": 5.661611602,
                        "remaining_time": 7.186221081
                      },
                      {
                        "iteration": 665,
                        "learn": [
                          0.5971996898
                        ],
                        "passed_time": 5.710544444,
                        "remaining_time": 7.151042141
                      },
                      {
                        "iteration": 670,
                        "learn": [
                          0.5970816428
                        ],
                        "passed_time": 5.749330568,
                        "remaining_time": 7.103122266
                      },
                      {
                        "iteration": 675,
                        "learn": [
                          0.5969803865
                        ],
                        "passed_time": 5.784760279,
                        "remaining_time": 7.051246258
                      },
                      {
                        "iteration": 680,
                        "learn": [
                          0.5968747581
                        ],
                        "passed_time": 5.820757232,
                        "remaining_time": 7.00029394
                      },
                      {
                        "iteration": 685,
                        "learn": [
                          0.5967820601
                        ],
                        "passed_time": 5.85941799,
                        "remaining_time": 6.952720473
                      },
                      {
                        "iteration": 690,
                        "learn": [
                          0.5966727572
                        ],
                        "passed_time": 5.906457519,
                        "remaining_time": 6.915085576
                      },
                      {
                        "iteration": 695,
                        "learn": [
                          0.5965794545
                        ],
                        "passed_time": 5.958502336,
                        "remaining_time": 6.883097526
                      },
                      {
                        "iteration": 700,
                        "learn": [
                          0.5964572679
                        ],
                        "passed_time": 5.994252199,
                        "remaining_time": 6.832250366
                      },
                      {
                        "iteration": 705,
                        "learn": [
                          0.5963467558
                        ],
                        "passed_time": 6.03851297,
                        "remaining_time": 6.791188807
                      },
                      {
                        "iteration": 710,
                        "learn": [
                          0.5962361041
                        ],
                        "passed_time": 6.115842719,
                        "remaining_time": 6.786779052
                      },
                      {
                        "iteration": 715,
                        "learn": [
                          0.5961471735
                        ],
                        "passed_time": 6.194734628,
                        "remaining_time": 6.78306138
                      },
                      {
                        "iteration": 720,
                        "learn": [
                          0.5960523824
                        ],
                        "passed_time": 6.288923109,
                        "remaining_time": 6.794828158
                      },
                      {
                        "iteration": 725,
                        "learn": [
                          0.5959586145
                        ],
                        "passed_time": 6.43387325,
                        "remaining_time": 6.859253299
                      },
                      {
                        "iteration": 730,
                        "learn": [
                          0.5958500559
                        ],
                        "passed_time": 6.578890197,
                        "remaining_time": 6.920884489
                      },
                      {
                        "iteration": 735,
                        "learn": [
                          0.5957482415
                        ],
                        "passed_time": 6.723474759,
                        "remaining_time": 6.979259125
                      },
                      {
                        "iteration": 740,
                        "learn": [
                          0.5956656365
                        ],
                        "passed_time": 6.868780668,
                        "remaining_time": 7.03563364
                      },
                      {
                        "iteration": 745,
                        "learn": [
                          0.5955802407
                        ],
                        "passed_time": 7.014512122,
                        "remaining_time": 7.089734772
                      },
                      {
                        "iteration": 750,
                        "learn": [
                          0.595485031
                        ],
                        "passed_time": 7.172427898,
                        "remaining_time": 7.153326892
                      },
                      {
                        "iteration": 755,
                        "learn": [
                          0.595373077
                        ],
                        "passed_time": 7.351573007,
                        "remaining_time": 7.234881372
                      },
                      {
                        "iteration": 760,
                        "learn": [
                          0.5952567044
                        ],
                        "passed_time": 7.500417665,
                        "remaining_time": 7.283585617
                      },
                      {
                        "iteration": 765,
                        "learn": [
                          0.5951482853
                        ],
                        "passed_time": 7.651383529,
                        "remaining_time": 7.331743486
                      },
                      {
                        "iteration": 770,
                        "learn": [
                          0.5950501919
                        ],
                        "passed_time": 7.811357874,
                        "remaining_time": 7.385836433
                      },
                      {
                        "iteration": 775,
                        "learn": [
                          0.5949576333
                        ],
                        "passed_time": 8.010125007,
                        "remaining_time": 7.473364053
                      },
                      {
                        "iteration": 780,
                        "learn": [
                          0.5948776795
                        ],
                        "passed_time": 8.186114402,
                        "remaining_time": 7.536256409
                      },
                      {
                        "iteration": 785,
                        "learn": [
                          0.5947892605
                        ],
                        "passed_time": 8.380775725,
                        "remaining_time": 7.613071079
                      },
                      {
                        "iteration": 790,
                        "learn": [
                          0.594698981
                        ],
                        "passed_time": 8.552351651,
                        "remaining_time": 7.665761468
                      },
                      {
                        "iteration": 795,
                        "learn": [
                          0.5946123294
                        ],
                        "passed_time": 8.727665346,
                        "remaining_time": 7.718940205
                      },
                      {
                        "iteration": 800,
                        "learn": [
                          0.5945044685
                        ],
                        "passed_time": 8.790906673,
                        "remaining_time": 7.671465374
                      },
                      {
                        "iteration": 805,
                        "learn": [
                          0.5944130727
                        ],
                        "passed_time": 8.843962105,
                        "remaining_time": 7.615024443
                      },
                      {
                        "iteration": 810,
                        "learn": [
                          0.5943151188
                        ],
                        "passed_time": 8.900844332,
                        "remaining_time": 7.561876381
                      },
                      {
                        "iteration": 815,
                        "learn": [
                          0.5942080486
                        ],
                        "passed_time": 8.945999402,
                        "remaining_time": 7.49885244
                      },
                      {
                        "iteration": 820,
                        "learn": [
                          0.5940929783
                        ],
                        "passed_time": 8.989810399,
                        "remaining_time": 7.434934544
                      },
                      {
                        "iteration": 825,
                        "learn": [
                          0.5939759545
                        ],
                        "passed_time": 9.043402468,
                        "remaining_time": 7.379241239
                      },
                      {
                        "iteration": 830,
                        "learn": [
                          0.5938701401
                        ],
                        "passed_time": 9.084550303,
                        "remaining_time": 7.313554937
                      },
                      {
                        "iteration": 835,
                        "learn": [
                          0.5937605117
                        ],
                        "passed_time": 9.125713103,
                        "remaining_time": 7.248174043
                      },
                      {
                        "iteration": 840,
                        "learn": [
                          0.5936570694
                        ],
                        "passed_time": 9.160415886,
                        "remaining_time": 7.178019107
                      },
                      {
                        "iteration": 845,
                        "learn": [
                          0.5935483247
                        ],
                        "passed_time": 9.195345848,
                        "remaining_time": 7.108458847
                      },
                      {
                        "iteration": 850,
                        "learn": [
                          0.5934450219
                        ],
                        "passed_time": 9.246693471,
                        "remaining_time": 7.05182616
                      },
                      {
                        "iteration": 855,
                        "learn": [
                          0.5933509285
                        ],
                        "passed_time": 9.281413192,
                        "remaining_time": 6.982745439
                      },
                      {
                        "iteration": 860,
                        "learn": [
                          0.593268742
                        ],
                        "passed_time": 9.333489631,
                        "remaining_time": 6.926945267
                      },
                      {
                        "iteration": 865,
                        "learn": [
                          0.5931675788
                        ],
                        "passed_time": 9.36868204,
                        "remaining_time": 6.858827267
                      },
                      {
                        "iteration": 870,
                        "learn": [
                          0.5930824621
                        ],
                        "passed_time": 9.403855667,
                        "remaining_time": 6.791073725
                      },
                      {
                        "iteration": 875,
                        "learn": [
                          0.5930098572
                        ],
                        "passed_time": 9.438284592,
                        "remaining_time": 6.723161627
                      },
                      {
                        "iteration": 880,
                        "learn": [
                          0.5929217172
                        ],
                        "passed_time": 9.472733447,
                        "remaining_time": 6.655643591
                      },
                      {
                        "iteration": 885,
                        "learn": [
                          0.5928177168
                        ],
                        "passed_time": 9.514332155,
                        "remaining_time": 6.59345366
                      },
                      {
                        "iteration": 890,
                        "learn": [
                          0.5927197628
                        ],
                        "passed_time": 9.548977228,
                        "remaining_time": 6.526742011
                      },
                      {
                        "iteration": 895,
                        "learn": [
                          0.5926280415
                        ],
                        "passed_time": 9.583452923,
                        "remaining_time": 6.460274069
                      },
                      {
                        "iteration": 900,
                        "learn": [
                          0.5925260876
                        ],
                        "passed_time": 9.62055476,
                        "remaining_time": 6.395907104
                      },
                      {
                        "iteration": 905,
                        "learn": [
                          0.5924085521
                        ],
                        "passed_time": 9.657000587,
                        "remaining_time": 6.331410981
                      },
                      {
                        "iteration": 910,
                        "learn": [
                          0.592317575
                        ],
                        "passed_time": 9.693336161,
                        "remaining_time": 6.267151481
                      },
                      {
                        "iteration": 915,
                        "learn": [
                          0.5922232025
                        ],
                        "passed_time": 9.741615883,
                        "remaining_time": 6.210811873
                      },
                      {
                        "iteration": 920,
                        "learn": [
                          0.5921323184
                        ],
                        "passed_time": 9.777286049,
                        "remaining_time": 6.146632597
                      },
                      {
                        "iteration": 925,
                        "learn": [
                          0.592034783
                        ],
                        "passed_time": 9.81126111,
                        "remaining_time": 6.08171045
                      },
                      {
                        "iteration": 930,
                        "learn": [
                          0.5919432012
                        ],
                        "passed_time": 9.8454191,
                        "remaining_time": 6.017232511
                      },
                      {
                        "iteration": 935,
                        "learn": [
                          0.5918362705
                        ],
                        "passed_time": 9.880421967,
                        "remaining_time": 5.953587595
                      },
                      {
                        "iteration": 940,
                        "learn": [
                          0.5917462701
                        ],
                        "passed_time": 9.922125486,
                        "remaining_time": 5.894227574
                      },
                      {
                        "iteration": 945,
                        "learn": [
                          0.5916525488
                        ],
                        "passed_time": 9.957622141,
                        "remaining_time": 5.831419309
                      },
                      {
                        "iteration": 950,
                        "learn": [
                          0.5915611065
                        ],
                        "passed_time": 10.00741803,
                        "remaining_time": 5.777152993
                      },
                      {
                        "iteration": 955,
                        "learn": [
                          0.591464827
                        ],
                        "passed_time": 10.04206805,
                        "remaining_time": 5.714314871
                      },
                      {
                        "iteration": 960,
                        "learn": [
                          0.591376315
                        ],
                        "passed_time": 10.0763112,
                        "remaining_time": 5.651541868
                      },
                      {
                        "iteration": 965,
                        "learn": [
                          0.5912855239
                        ],
                        "passed_time": 10.11549573,
                        "remaining_time": 5.591795779
                      },
                      {
                        "iteration": 970,
                        "learn": [
                          0.5911808722
                        ],
                        "passed_time": 10.15055499,
                        "remaining_time": 5.530013998
                      },
                      {
                        "iteration": 975,
                        "learn": [
                          0.5910830113
                        ],
                        "passed_time": 10.20826192,
                        "remaining_time": 5.480665211
                      },
                      {
                        "iteration": 980,
                        "learn": [
                          0.5909845458
                        ],
                        "passed_time": 10.27753609,
                        "remaining_time": 5.437350898
                      },
                      {
                        "iteration": 985,
                        "learn": [
                          0.5908978012
                        ],
                        "passed_time": 10.31778876,
                        "remaining_time": 5.378644447
                      },
                      {
                        "iteration": 990,
                        "learn": [
                          0.5908103125
                        ],
                        "passed_time": 10.35320139,
                        "remaining_time": 5.317638254
                      },
                      {
                        "iteration": 995,
                        "learn": [
                          0.5907106841
                        ],
                        "passed_time": 10.38771571,
                        "remaining_time": 5.256434458
                      },
                      {
                        "iteration": 1000,
                        "learn": [
                          0.5906143581
                        ],
                        "passed_time": 10.42239473,
                        "remaining_time": 5.195579392
                      },
                      {
                        "iteration": 1005,
                        "learn": [
                          0.590533381
                        ],
                        "passed_time": 10.45698008,
                        "remaining_time": 5.134938527
                      },
                      {
                        "iteration": 1010,
                        "learn": [
                          0.5904494271
                        ],
                        "passed_time": 10.49174999,
                        "remaining_time": 5.074644652
                      },
                      {
                        "iteration": 1015,
                        "learn": [
                          0.5903614267
                        ],
                        "passed_time": 10.53241293,
                        "remaining_time": 5.017409311
                      },
                      {
                        "iteration": 1020,
                        "learn": [
                          0.5902784961
                        ],
                        "passed_time": 10.57235803,
                        "remaining_time": 4.959999507
                      },
                      {
                        "iteration": 1025,
                        "learn": [
                          0.5902017516
                        ],
                        "passed_time": 10.60779605,
                        "remaining_time": 4.900677705
                      },
                      {
                        "iteration": 1030,
                        "learn": [
                          0.5901177977
                        ],
                        "passed_time": 10.64232209,
                        "remaining_time": 4.841172707
                      },
                      {
                        "iteration": 1035,
                        "learn": [
                          0.5900123089
                        ],
                        "passed_time": 10.68346508,
                        "remaining_time": 4.78487239
                      },
                      {
                        "iteration": 1040,
                        "learn": [
                          0.5899192387
                        ],
                        "passed_time": 10.72273796,
                        "remaining_time": 4.727893105
                      },
                      {
                        "iteration": 1045,
                        "learn": [
                          0.5898243546
                        ],
                        "passed_time": 10.75726324,
                        "remaining_time": 4.669022477
                      },
                      {
                        "iteration": 1050,
                        "learn": [
                          0.5897306332
                        ],
                        "passed_time": 10.79237545,
                        "remaining_time": 4.610634233
                      },
                      {
                        "iteration": 1055,
                        "learn": [
                          0.5896428654
                        ],
                        "passed_time": 10.82671557,
                        "remaining_time": 4.552141774
                      },
                      {
                        "iteration": 1060,
                        "learn": [
                          0.5895530975
                        ],
                        "passed_time": 10.86278934,
                        "remaining_time": 4.494594269
                      },
                      {
                        "iteration": 1065,
                        "learn": [
                          0.5894617018
                        ],
                        "passed_time": 10.90577659,
                        "remaining_time": 4.44006289
                      },
                      {
                        "iteration": 1070,
                        "learn": [
                          0.5893509571
                        ],
                        "passed_time": 10.94124401,
                        "remaining_time": 4.382627151
                      },
                      {
                        "iteration": 1075,
                        "learn": [
                          0.5892557009
                        ],
                        "passed_time": 10.99023363,
                        "remaining_time": 4.330724032
                      },
                      {
                        "iteration": 1080,
                        "learn": [
                          0.5891664912
                        ],
                        "passed_time": 11.02401637,
                        "remaining_time": 4.272953615
                      },
                      {
                        "iteration": 1085,
                        "learn": [
                          0.5890691884
                        ],
                        "passed_time": 11.05836035,
                        "remaining_time": 4.215618035
                      },
                      {
                        "iteration": 1090,
                        "learn": [
                          0.5889663972
                        ],
                        "passed_time": 11.09294788,
                        "remaining_time": 4.158584493
                      },
                      {
                        "iteration": 1095,
                        "learn": [
                          0.5888812341
                        ],
                        "passed_time": 11.13243218,
                        "remaining_time": 4.103560768
                      },
                      {
                        "iteration": 1100,
                        "learn": [
                          0.5888006291
                        ],
                        "passed_time": 11.19038607,
                        "remaining_time": 4.055371518
                      },
                      {
                        "iteration": 1105,
                        "learn": [
                          0.5887269543
                        ],
                        "passed_time": 11.22484087,
                        "remaining_time": 3.998722697
                      },
                      {
                        "iteration": 1110,
                        "learn": [
                          0.588629512
                        ],
                        "passed_time": 11.26006064,
                        "remaining_time": 3.942541483
                      },
                      {
                        "iteration": 1115,
                        "learn": [
                          0.5885561629
                        ],
                        "passed_time": 11.29451644,
                        "remaining_time": 3.886285228
                      },
                      {
                        "iteration": 1120,
                        "learn": [
                          0.5884719764
                        ],
                        "passed_time": 11.33412169,
                        "remaining_time": 3.831964427
                      },
                      {
                        "iteration": 1125,
                        "learn": [
                          0.58837779
                        ],
                        "passed_time": 11.36974497,
                        "remaining_time": 3.776451702
                      },
                      {
                        "iteration": 1130,
                        "learn": [
                          0.5882639755
                        ],
                        "passed_time": 11.40648749,
                        "remaining_time": 3.721480003
                      },
                      {
                        "iteration": 1135,
                        "learn": [
                          0.5881754635
                        ],
                        "passed_time": 11.44084964,
                        "remaining_time": 3.665906046
                      },
                      {
                        "iteration": 1140,
                        "learn": [
                          0.5880765793
                        ],
                        "passed_time": 11.47551863,
                        "remaining_time": 3.61061454
                      },
                      {
                        "iteration": 1145,
                        "learn": [
                          0.5879874161
                        ],
                        "passed_time": 11.51513599,
                        "remaining_time": 3.557031536
                      },
                      {
                        "iteration": 1150,
                        "learn": [
                          0.587922253
                        ],
                        "passed_time": 11.55323645,
                        "remaining_time": 3.503109924
                      },
                      {
                        "iteration": 1155,
                        "learn": [
                          0.587835555
                        ],
                        "passed_time": 11.58930061,
                        "remaining_time": 3.448719211
                      },
                      {
                        "iteration": 1160,
                        "learn": [
                          0.5877382522
                        ],
                        "passed_time": 11.62531888,
                        "remaining_time": 3.394472955
                      },
                      {
                        "iteration": 1165,
                        "learn": [
                          0.5876314611
                        ],
                        "passed_time": 11.66942814,
                        "remaining_time": 3.342700685
                      },
                      {
                        "iteration": 1170,
                        "learn": [
                          0.5875442514
                        ],
                        "passed_time": 11.71060688,
                        "remaining_time": 3.290170508
                      },
                      {
                        "iteration": 1175,
                        "learn": [
                          0.5874649487
                        ],
                        "passed_time": 11.74735509,
                        "remaining_time": 3.236516198
                      },
                      {
                        "iteration": 1180,
                        "learn": [
                          0.5873662506
                        ],
                        "passed_time": 11.78322892,
                        "remaining_time": 3.182768861
                      },
                      {
                        "iteration": 1185,
                        "learn": [
                          0.587281506
                        ],
                        "passed_time": 11.82132778,
                        "remaining_time": 3.129761318
                      },
                      {
                        "iteration": 1190,
                        "learn": [
                          0.587189087
                        ],
                        "passed_time": 11.86050925,
                        "remaining_time": 3.077159831
                      },
                      {
                        "iteration": 1195,
                        "learn": [
                          0.5870867144
                        ],
                        "passed_time": 11.89732123,
                        "remaining_time": 3.024068272
                      },
                      {
                        "iteration": 1200,
                        "learn": [
                          0.5869957838
                        ],
                        "passed_time": 11.95594541,
                        "remaining_time": 2.976542612
                      },
                      {
                        "iteration": 1205,
                        "learn": [
                          0.5869287602
                        ],
                        "passed_time": 11.99006457,
                        "remaining_time": 2.922951065
                      },
                      {
                        "iteration": 1210,
                        "learn": [
                          0.5868426668
                        ],
                        "passed_time": 12.02468158,
                        "remaining_time": 2.869639122
                      },
                      {
                        "iteration": 1215,
                        "learn": [
                          0.5867570385
                        ],
                        "passed_time": 12.0586017,
                        "remaining_time": 2.816318159
                      },
                      {
                        "iteration": 1220,
                        "learn": [
                          0.5866694102
                        ],
                        "passed_time": 12.10060233,
                        "remaining_time": 2.765002497
                      },
                      {
                        "iteration": 1225,
                        "learn": [
                          0.5865702005
                        ],
                        "passed_time": 12.1536039,
                        "remaining_time": 2.716221426
                      },
                      {
                        "iteration": 1230,
                        "learn": [
                          0.5864895025
                        ],
                        "passed_time": 12.18782137,
                        "remaining_time": 2.663301339
                      },
                      {
                        "iteration": 1235,
                        "learn": [
                          0.5863870834
                        ],
                        "passed_time": 12.22250607,
                        "remaining_time": 2.610632365
                      },
                      {
                        "iteration": 1240,
                        "learn": [
                          0.5863090831
                        ],
                        "passed_time": 12.2573234,
                        "remaining_time": 2.558135988
                      },
                      {
                        "iteration": 1245,
                        "learn": [
                          0.5862140594
                        ],
                        "passed_time": 12.29171331,
                        "remaining_time": 2.505694367
                      },
                      {
                        "iteration": 1250,
                        "learn": [
                          0.586120152
                        ],
                        "passed_time": 12.33091112,
                        "remaining_time": 2.454354011
                      },
                      {
                        "iteration": 1255,
                        "learn": [
                          0.5860316865
                        ],
                        "passed_time": 12.36571661,
                        "remaining_time": 2.402257049
                      },
                      {
                        "iteration": 1260,
                        "learn": [
                          0.5859479652
                        ],
                        "passed_time": 12.39982571,
                        "remaining_time": 2.350165222
                      },
                      {
                        "iteration": 1265,
                        "learn": [
                          0.5858644299
                        ],
                        "passed_time": 12.43395688,
                        "remaining_time": 2.298219519
                      },
                      {
                        "iteration": 1270,
                        "learn": [
                          0.5857748946
                        ],
                        "passed_time": 12.46836023,
                        "remaining_time": 2.246463015
                      },
                      {
                        "iteration": 1275,
                        "learn": [
                          0.5856913594
                        ],
                        "passed_time": 12.50620295,
                        "remaining_time": 2.195446287
                      },
                      {
                        "iteration": 1280,
                        "learn": [
                          0.5856231265
                        ],
                        "passed_time": 12.55481696,
                        "remaining_time": 2.146373859
                      },
                      {
                        "iteration": 1285,
                        "learn": [
                          0.5855449401
                        ],
                        "passed_time": 12.59258489,
                        "remaining_time": 2.095500129
                      },
                      {
                        "iteration": 1290,
                        "learn": [
                          0.5854700095
                        ],
                        "passed_time": 12.62721563,
                        "remaining_time": 2.044220035
                      },
                      {
                        "iteration": 1295,
                        "learn": [
                          0.5853837766
                        ],
                        "passed_time": 12.66138289,
                        "remaining_time": 1.992995455
                      },
                      {
                        "iteration": 1300,
                        "learn": [
                          0.5852985669
                        ],
                        "passed_time": 12.69616488,
                        "remaining_time": 1.941996011
                      },
                      {
                        "iteration": 1305,
                        "learn": [
                          0.5852201014
                        ],
                        "passed_time": 12.74004222,
                        "remaining_time": 1.892471815
                      },
                      {
                        "iteration": 1310,
                        "learn": [
                          0.585151357
                        ],
                        "passed_time": 12.77569847,
                        "remaining_time": 1.841805501
                      },
                      {
                        "iteration": 1315,
                        "learn": [
                          0.5850665194
                        ],
                        "passed_time": 12.81195152,
                        "remaining_time": 1.791336687
                      },
                      {
                        "iteration": 1320,
                        "learn": [
                          0.5849748911
                        ],
                        "passed_time": 12.84650473,
                        "remaining_time": 1.740745152
                      },
                      {
                        "iteration": 1325,
                        "learn": [
                          0.5848896349
                        ],
                        "passed_time": 12.88032586,
                        "remaining_time": 1.690178507
                      },
                      {
                        "iteration": 1330,
                        "learn": [
                          0.5848144252
                        ],
                        "passed_time": 12.92010027,
                        "remaining_time": 1.640493573
                      },
                      {
                        "iteration": 1335,
                        "learn": [
                          0.5847276806
                        ],
                        "passed_time": 12.97520155,
                        "remaining_time": 1.592764262
                      },
                      {
                        "iteration": 1340,
                        "learn": [
                          0.5846267965
                        ],
                        "passed_time": 13.0118125,
                        "remaining_time": 1.542787611
                      },
                      {
                        "iteration": 1345,
                        "learn": [
                          0.5845449822
                        ],
                        "passed_time": 13.04761828,
                        "remaining_time": 1.492818139
                      },
                      {
                        "iteration": 1350,
                        "learn": [
                          0.5844476794
                        ],
                        "passed_time": 13.1022057,
                        "remaining_time": 1.445024906
                      },
                      {
                        "iteration": 1355,
                        "learn": [
                          0.5843571209
                        ],
                        "passed_time": 13.14114387,
                        "remaining_time": 1.395519703
                      },
                      {
                        "iteration": 1360,
                        "learn": [
                          0.5842728879
                        ],
                        "passed_time": 13.17644315,
                        "remaining_time": 1.345720498
                      },
                      {
                        "iteration": 1365,
                        "learn": [
                          0.5841817712
                        ],
                        "passed_time": 13.21219489,
                        "remaining_time": 1.296071827
                      },
                      {
                        "iteration": 1370,
                        "learn": [
                          0.5840898638
                        ],
                        "passed_time": 13.24782558,
                        "remaining_time": 1.246513129
                      },
                      {
                        "iteration": 1375,
                        "learn": [
                          0.5840009797
                        ],
                        "passed_time": 13.28320795,
                        "remaining_time": 1.197033275
                      },
                      {
                        "iteration": 1380,
                        "learn": [
                          0.5839299562
                        ],
                        "passed_time": 13.31880103,
                        "remaining_time": 1.147673659
                      },
                      {
                        "iteration": 1385,
                        "learn": [
                          0.5838407465
                        ],
                        "passed_time": 13.36150296,
                        "remaining_time": 1.098998079
                      },
                      {
                        "iteration": 1390,
                        "learn": [
                          0.5837560484
                        ],
                        "passed_time": 13.40175586,
                        "remaining_time": 1.050173536
                      },
                      {
                        "iteration": 1395,
                        "learn": [
                          0.5836795364
                        ],
                        "passed_time": 13.44355267,
                        "remaining_time": 1.001525414
                      },
                      {
                        "iteration": 1400,
                        "learn": [
                          0.5835841407
                        ],
                        "passed_time": 13.48084686,
                        "remaining_time": 0.9526080223
                      },
                      {
                        "iteration": 1405,
                        "learn": [
                          0.5834981403
                        ],
                        "passed_time": 13.51538871,
                        "remaining_time": 0.9035892878
                      },
                      {
                        "iteration": 1410,
                        "learn": [
                          0.5834090701
                        ],
                        "passed_time": 13.55676506,
                        "remaining_time": 0.8551042452
                      },
                      {
                        "iteration": 1415,
                        "learn": [
                          0.5833228837
                        ],
                        "passed_time": 13.5922118,
                        "remaining_time": 0.8063176491
                      },
                      {
                        "iteration": 1420,
                        "learn": [
                          0.5832376275
                        ],
                        "passed_time": 13.62683598,
                        "remaining_time": 0.7575791993
                      },
                      {
                        "iteration": 1425,
                        "learn": [
                          0.5831569294
                        ],
                        "passed_time": 13.66139845,
                        "remaining_time": 0.7089365252
                      },
                      {
                        "iteration": 1430,
                        "learn": [
                          0.5830601848
                        ],
                        "passed_time": 13.69586581,
                        "remaining_time": 0.6603876596
                      },
                      {
                        "iteration": 1435,
                        "learn": [
                          0.5829647425
                        ],
                        "passed_time": 13.73035072,
                        "remaining_time": 0.6119376364
                      },
                      {
                        "iteration": 1440,
                        "learn": [
                          0.5828738119
                        ],
                        "passed_time": 13.77334267,
                        "remaining_time": 0.5639328366
                      },
                      {
                        "iteration": 1445,
                        "learn": [
                          0.5827924162
                        ],
                        "passed_time": 13.81112577,
                        "remaining_time": 0.5157681823
                      },
                      {
                        "iteration": 1450,
                        "learn": [
                          0.5827127879
                        ],
                        "passed_time": 13.84541572,
                        "remaining_time": 0.4675571126
                      },
                      {
                        "iteration": 1455,
                        "learn": [
                          0.5826135317
                        ],
                        "passed_time": 13.8797497,
                        "remaining_time": 0.4194429856
                      },
                      {
                        "iteration": 1460,
                        "learn": [
                          0.5825272987
                        ],
                        "passed_time": 13.94545839,
                        "remaining_time": 0.3722606962
                      },
                      {
                        "iteration": 1465,
                        "learn": [
                          0.5824381355
                        ],
                        "passed_time": 13.98081144,
                        "remaining_time": 0.3242480143
                      },
                      {
                        "iteration": 1470,
                        "learn": [
                          0.5823485072
                        ],
                        "passed_time": 14.01546766,
                        "remaining_time": 0.2763076562
                      },
                      {
                        "iteration": 1475,
                        "learn": [
                          0.5822749255
                        ],
                        "passed_time": 14.06932413,
                        "remaining_time": 0.2287694981
                      },
                      {
                        "iteration": 1480,
                        "learn": [
                          0.5822042275
                        ],
                        "passed_time": 14.10478147,
                        "remaining_time": 0.180952632
                      },
                      {
                        "iteration": 1485,
                        "learn": [
                          0.5821315295
                        ],
                        "passed_time": 14.14884985,
                        "remaining_time": 0.1333000659
                      },
                      {
                        "iteration": 1490,
                        "learn": [
                          0.5820397152
                        ],
                        "passed_time": 14.18550809,
                        "remaining_time": 0.08562680941
                      },
                      {
                        "iteration": 1495,
                        "learn": [
                          0.5819585985
                        ],
                        "passed_time": 14.2195106,
                        "remaining_time": 0.03802008181
                      },
                      {
                        "iteration": 1499,
                        "learn": [
                          0.5819069239
                        ],
                        "passed_time": 14.24729801,
                        "remaining_time": 0
                      }
                    ],
                    "meta": {
                      "iteration_count": 1500,
                      "launch_mode": "Train",
                      "learn_metrics": [
                        {
                          "best_value": "Min",
                          "name": "Logloss"
                        }
                      ],
                      "learn_sets": [
                        "learn"
                      ],
                      "name": "experiment",
                      "parameters": "",
                      "test_metrics": [],
                      "test_sets": []
                    }
                  },
                  "passed_iterations": 1499,
                  "total_iterations": 1500
                },
                "name": "catboost_info",
                "path": "catboost_info"
              }
            },
            "layout": "IPY_MODEL_9e449339e692453494baaccb22b15ec6"
          }
        }
      }
    }
  },
  "nbformat": 4,
  "nbformat_minor": 0
}
